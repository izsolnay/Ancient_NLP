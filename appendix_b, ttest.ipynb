{
 "cells": [
  {
   "cell_type": "markdown",
   "id": "9c4070f3-d45f-48ca-93ae-a00bb893085b",
   "metadata": {},
   "source": [
    "# Ancient Texts: Hypothesis Testing\n",
    "### Purpose\n",
    "To discover whether modern NLP tools and predictive algorithms can provide insights into ancient text corpora\n",
    "\n",
    "### This notebook contains Hypothesis Testing (two-sample t-tests)\n",
    "Several two-sample hypothesis tests (t-tests) are conducted to ascertain if there is a statistically significant difference or a random sampling occurrence in *means* by target variable `is_hymn` and the features: `word_count`, `whole_polarity`, and `whole_subjectivity`\n",
    "\n",
    "### Data\n",
    "Data worked with is `ancient_for_ML.csv` which was finalized in the notebook ancient_NLP_balancing\n",
    "\n",
    "#### `is_hymn` is divided between\n",
    "\n",
    "**'is_hymn=1'**\n",
    "> 'Royal praise poetry and hymns to deities on behalf of rulers'\n",
    "'Praise poetry and hymns for unknown rulers'\n",
    "'Hymns addressed to deities'\n",
    "'Hymns addressed to or concerning temples'\n",
    "'Other letters and letter-prayers'\n",
    "\n",
    "**'is_hymn=0'**\n",
    "\n",
    "> 'Narratives featuring deities', 'Narratives featuring heroes', 'King lists and other compositions', 'City laments', 'Royal correspondence', 'School stories', 'Debate poems', 'Dialogues and diatribes', 'Personal laments', 'Lu-digira compositions', 'Types of song', 'Didactic compositions', 'Short tales', 'Animal fables', 'Offering compositions', 'Proverb collections', 'Other proverbs, 'Reflective compositions', 'Other', 'Lexical compositions'\n"
   ]
  },
  {
   "cell_type": "code",
   "execution_count": 1,
   "id": "8ef477a6-5f56-429a-af7d-fafd047fa04c",
   "metadata": {},
   "outputs": [],
   "source": [
    "# Import standard operational packages\n",
    "import pandas as pd\n",
    "import numpy as np\n",
    "\n",
    "# Import additional statistical package\n",
    "from scipy import stats\n",
    "\n",
    "# Set Jupyter to display all of the columns (no redaction)\n",
    "pd.set_option('display.max_columns', None)"
   ]
  },
  {
   "cell_type": "code",
   "execution_count": 2,
   "id": "62fffe1b-307f-475e-b8fb-89f99f70711c",
   "metadata": {},
   "outputs": [
    {
     "data": {
      "text/html": [
       "<div>\n",
       "<style scoped>\n",
       "    .dataframe tbody tr th:only-of-type {\n",
       "        vertical-align: middle;\n",
       "    }\n",
       "\n",
       "    .dataframe tbody tr th {\n",
       "        vertical-align: top;\n",
       "    }\n",
       "\n",
       "    .dataframe thead th {\n",
       "        text-align: right;\n",
       "    }\n",
       "</style>\n",
       "<table border=\"1\" class=\"dataframe\">\n",
       "  <thead>\n",
       "    <tr style=\"text-align: right;\">\n",
       "      <th></th>\n",
       "      <th>b_category</th>\n",
       "      <th>number</th>\n",
       "      <th>whole_polarity</th>\n",
       "      <th>whole_subjectivity</th>\n",
       "      <th>word_count</th>\n",
       "      <th>tfidf_top_word</th>\n",
       "      <th>sentence_count</th>\n",
       "      <th>is_hymn</th>\n",
       "      <th>summary</th>\n",
       "      <th>lemmatized_summaries</th>\n",
       "    </tr>\n",
       "  </thead>\n",
       "  <tbody>\n",
       "    <tr>\n",
       "      <th>0</th>\n",
       "      <td>Narratives featuring deities</td>\n",
       "      <td>1.1.1</td>\n",
       "      <td>0.330364</td>\n",
       "      <td>0.559201</td>\n",
       "      <td>1440</td>\n",
       "      <td>oil like</td>\n",
       "      <td>167</td>\n",
       "      <td>0</td>\n",
       "      <td>pure is dilmun land. pure is dilmun land. pure...</td>\n",
       "      <td>pure dilmun land pure dilmun land pure dilmun ...</td>\n",
       "    </tr>\n",
       "    <tr>\n",
       "      <th>1</th>\n",
       "      <td>Narratives featuring deities</td>\n",
       "      <td>1.1.2</td>\n",
       "      <td>0.110600</td>\n",
       "      <td>0.449011</td>\n",
       "      <td>825</td>\n",
       "      <td>could not</td>\n",
       "      <td>81</td>\n",
       "      <td>0</td>\n",
       "      <td>in those days, in the days when heaven and ear...</td>\n",
       "      <td>day day heaven earth created night night heave...</td>\n",
       "    </tr>\n",
       "    <tr>\n",
       "      <th>2</th>\n",
       "      <td>Narratives featuring deities</td>\n",
       "      <td>1.1.3</td>\n",
       "      <td>0.382723</td>\n",
       "      <td>0.596019</td>\n",
       "      <td>2247</td>\n",
       "      <td>placed charge</td>\n",
       "      <td>236</td>\n",
       "      <td>0</td>\n",
       "      <td>grandiloquent lord of heaven and earth, self-r...</td>\n",
       "      <td>grandiloquent lord heaven earth self-reliant f...</td>\n",
       "    </tr>\n",
       "  </tbody>\n",
       "</table>\n",
       "</div>"
      ],
      "text/plain": [
       "                     b_category number  whole_polarity  whole_subjectivity  \\\n",
       "0  Narratives featuring deities  1.1.1        0.330364            0.559201   \n",
       "1  Narratives featuring deities  1.1.2        0.110600            0.449011   \n",
       "2  Narratives featuring deities  1.1.3        0.382723            0.596019   \n",
       "\n",
       "   word_count tfidf_top_word  sentence_count  is_hymn  \\\n",
       "0        1440       oil like             167        0   \n",
       "1         825      could not              81        0   \n",
       "2        2247  placed charge             236        0   \n",
       "\n",
       "                                             summary  \\\n",
       "0  pure is dilmun land. pure is dilmun land. pure...   \n",
       "1  in those days, in the days when heaven and ear...   \n",
       "2  grandiloquent lord of heaven and earth, self-r...   \n",
       "\n",
       "                                lemmatized_summaries  \n",
       "0  pure dilmun land pure dilmun land pure dilmun ...  \n",
       "1  day day heaven earth created night night heave...  \n",
       "2  grandiloquent lord heaven earth self-reliant f...  "
      ]
     },
     "execution_count": 2,
     "metadata": {},
     "output_type": "execute_result"
    }
   ],
   "source": [
    "# Import data; create df\n",
    "df0 = pd.read_csv('ancient_for_ML.csv')\n",
    "df0.head(3)"
   ]
  },
  {
   "cell_type": "code",
   "execution_count": 3,
   "id": "b6bbc4d0-3b72-4ead-a3dd-73d6a23e0f73",
   "metadata": {},
   "outputs": [
    {
     "name": "stdout",
     "output_type": "stream",
     "text": [
      "<class 'pandas.core.frame.DataFrame'>\n",
      "RangeIndex: 364 entries, 0 to 363\n",
      "Data columns (total 10 columns):\n",
      " #   Column                Non-Null Count  Dtype  \n",
      "---  ------                --------------  -----  \n",
      " 0   b_category            364 non-null    object \n",
      " 1   number                364 non-null    object \n",
      " 2   whole_polarity        364 non-null    float64\n",
      " 3   whole_subjectivity    364 non-null    float64\n",
      " 4   word_count            364 non-null    int64  \n",
      " 5   tfidf_top_word        364 non-null    object \n",
      " 6   sentence_count        364 non-null    int64  \n",
      " 7   is_hymn               364 non-null    int64  \n",
      " 8   summary               364 non-null    object \n",
      " 9   lemmatized_summaries  364 non-null    object \n",
      "dtypes: float64(2), int64(3), object(5)\n",
      "memory usage: 28.6+ KB\n"
     ]
    }
   ],
   "source": [
    "df0.info()"
   ]
  },
  {
   "cell_type": "code",
   "execution_count": 4,
   "id": "4b6a80f6-50c5-462c-9441-ef2ef3a0c436",
   "metadata": {},
   "outputs": [
    {
     "data": {
      "text/html": [
       "<div>\n",
       "<style scoped>\n",
       "    .dataframe tbody tr th:only-of-type {\n",
       "        vertical-align: middle;\n",
       "    }\n",
       "\n",
       "    .dataframe tbody tr th {\n",
       "        vertical-align: top;\n",
       "    }\n",
       "\n",
       "    .dataframe thead th {\n",
       "        text-align: right;\n",
       "    }\n",
       "</style>\n",
       "<table border=\"1\" class=\"dataframe\">\n",
       "  <thead>\n",
       "    <tr style=\"text-align: right;\">\n",
       "      <th></th>\n",
       "      <th>whole_polarity</th>\n",
       "      <th>whole_subjectivity</th>\n",
       "      <th>word_count</th>\n",
       "      <th>sentence_count</th>\n",
       "      <th>is_hymn</th>\n",
       "    </tr>\n",
       "  </thead>\n",
       "  <tbody>\n",
       "    <tr>\n",
       "      <th>count</th>\n",
       "      <td>364.00</td>\n",
       "      <td>364.00</td>\n",
       "      <td>364.00</td>\n",
       "      <td>364.00</td>\n",
       "      <td>364.00</td>\n",
       "    </tr>\n",
       "    <tr>\n",
       "      <th>mean</th>\n",
       "      <td>0.28</td>\n",
       "      <td>0.58</td>\n",
       "      <td>439.93</td>\n",
       "      <td>55.20</td>\n",
       "      <td>0.58</td>\n",
       "    </tr>\n",
       "    <tr>\n",
       "      <th>std</th>\n",
       "      <td>0.20</td>\n",
       "      <td>0.13</td>\n",
       "      <td>611.72</td>\n",
       "      <td>67.88</td>\n",
       "      <td>0.49</td>\n",
       "    </tr>\n",
       "    <tr>\n",
       "      <th>min</th>\n",
       "      <td>-0.37</td>\n",
       "      <td>0.00</td>\n",
       "      <td>31.00</td>\n",
       "      <td>1.00</td>\n",
       "      <td>0.00</td>\n",
       "    </tr>\n",
       "    <tr>\n",
       "      <th>25%</th>\n",
       "      <td>0.14</td>\n",
       "      <td>0.52</td>\n",
       "      <td>124.75</td>\n",
       "      <td>17.00</td>\n",
       "      <td>0.00</td>\n",
       "    </tr>\n",
       "    <tr>\n",
       "      <th>50%</th>\n",
       "      <td>0.27</td>\n",
       "      <td>0.58</td>\n",
       "      <td>217.50</td>\n",
       "      <td>29.00</td>\n",
       "      <td>1.00</td>\n",
       "    </tr>\n",
       "    <tr>\n",
       "      <th>75%</th>\n",
       "      <td>0.41</td>\n",
       "      <td>0.65</td>\n",
       "      <td>438.50</td>\n",
       "      <td>60.25</td>\n",
       "      <td>1.00</td>\n",
       "    </tr>\n",
       "    <tr>\n",
       "      <th>max</th>\n",
       "      <td>0.84</td>\n",
       "      <td>0.91</td>\n",
       "      <td>5305.00</td>\n",
       "      <td>452.00</td>\n",
       "      <td>1.00</td>\n",
       "    </tr>\n",
       "  </tbody>\n",
       "</table>\n",
       "</div>"
      ],
      "text/plain": [
       "       whole_polarity  whole_subjectivity  word_count  sentence_count  is_hymn\n",
       "count          364.00              364.00      364.00          364.00   364.00\n",
       "mean             0.28                0.58      439.93           55.20     0.58\n",
       "std              0.20                0.13      611.72           67.88     0.49\n",
       "min             -0.37                0.00       31.00            1.00     0.00\n",
       "25%              0.14                0.52      124.75           17.00     0.00\n",
       "50%              0.27                0.58      217.50           29.00     1.00\n",
       "75%              0.41                0.65      438.50           60.25     1.00\n",
       "max              0.84                0.91     5305.00          452.00     1.00"
      ]
     },
     "execution_count": 4,
     "metadata": {},
     "output_type": "execute_result"
    }
   ],
   "source": [
    "df0.describe().round(2)"
   ]
  },
  {
   "cell_type": "code",
   "execution_count": 5,
   "id": "26cf6c1a-48dc-4bd3-b160-8262bab419bf",
   "metadata": {},
   "outputs": [
    {
     "name": "stdout",
     "output_type": "stream",
     "text": [
      "(364, 10)\n",
      "is_hymn\n",
      "1    210\n",
      "0    154\n",
      "Name: count, dtype: int64\n",
      "is_hymn\n",
      "1    57.7%\n",
      "0    42.3%\n",
      "Name: proportion, dtype: object\n"
     ]
    }
   ],
   "source": [
    "# Calculate count and % of `is_hymn` in full dataset\n",
    "print(df0.shape)\n",
    "print(df0['is_hymn'].value_counts()) # value_counts counts the # of times appears\n",
    "print(df0['is_hymn'].value_counts(normalize = True).mul(100).round(1).astype(str) + '%')  # normalize = True displays in percentages"
   ]
  },
  {
   "cell_type": "markdown",
   "id": "5d8aea52-da25-4633-a33c-4c52f0a6e879",
   "metadata": {},
   "source": [
    "## Perform Hypothesis testing: Welch's t-test\n",
    "Welch's t-test assumes unequal variances in population (no reason to assume same variance here)\\\n",
    "(Variance: the average of the squared difference of each data point from the mean)\n",
    "\n",
    "#### Steps\n",
    "1. state the NULL hypothesis ($H_0$) and the alternative hypothesis ($H_a$)\n",
    "    * $H_0$: there is no statistical difference – not reject, any difference is CHANCE\n",
    "    * $H_a$: there is a statistical difference - REJECT, not due to chance; there is a relationship.\n",
    "2. choose a significance level: 5%\n",
    "3. find the p-value; stats.ttest_ind() function to perform the test\n",
    "4. reject or fail to reject the NULL hypothesis"
   ]
  },
  {
   "cell_type": "code",
   "execution_count": 6,
   "id": "612bdfa8-2f84-4a7b-8bec-eef9ad8e38c1",
   "metadata": {},
   "outputs": [
    {
     "data": {
      "text/plain": [
       "0.05"
      ]
     },
     "execution_count": 6,
     "metadata": {},
     "output_type": "execute_result"
    }
   ],
   "source": [
    "# Set significance level\n",
    "significance_level = 0.05\n",
    "significance_level"
   ]
  },
  {
   "cell_type": "markdown",
   "id": "d6373922-da51-4d97-9eb1-b20f9ec2939f",
   "metadata": {},
   "source": [
    "### Two-sample t-test for statistical significance between `is_hymn` statuses and median and mean `word_count` \n",
    "* $H_0$: there is no statistical difference between the *mean* number of word counts between 'is_hymn=0' and 'is_hymn=1' – any difference is CHANCE\n",
    "* $H_a$: there is a statistical difference; REJECT $H_0$, because difference is not due to chance; there is a relationship."
   ]
  },
  {
   "cell_type": "code",
   "execution_count": 8,
   "id": "6da9aaaa-ac41-46e5-b652-947e2615a5a4",
   "metadata": {},
   "outputs": [
    {
     "data": {
      "text/plain": [
       "is_hymn\n",
       "0    309.5\n",
       "1    185.0\n",
       "Name: word_count, dtype: float64"
      ]
     },
     "execution_count": 8,
     "metadata": {},
     "output_type": "execute_result"
    }
   ],
   "source": [
    "# Calculate median `word_count` for each group in `is_hymn`\n",
    "df0.groupby('is_hymn')['word_count'].median()"
   ]
  },
  {
   "cell_type": "code",
   "execution_count": 10,
   "id": "3c4225c0-e7cb-44c4-9430-e0c68e2afb61",
   "metadata": {},
   "outputs": [
    {
     "data": {
      "text/plain": [
       "is_hymn\n",
       "0    642.772727\n",
       "1    291.180952\n",
       "Name: word_count, dtype: float64"
      ]
     },
     "execution_count": 10,
     "metadata": {},
     "output_type": "execute_result"
    }
   ],
   "source": [
    "# Calculate mean `word_count` for each group in `is_hymn`\n",
    "df0.groupby('is_hymn')['word_count'].mean()"
   ]
  },
  {
   "cell_type": "code",
   "execution_count": 12,
   "id": "b785c77c-3752-44c2-8aa5-bcaf74f6be64",
   "metadata": {},
   "outputs": [
    {
     "data": {
      "text/plain": [
       "TtestResult(statistic=5.07111588277485, pvalue=9.192666985612655e-07, df=194.37129015419953)"
      ]
     },
     "execution_count": 12,
     "metadata": {},
     "output_type": "execute_result"
    }
   ],
   "source": [
    "# Conduct a two-sample t-test to compare means\n",
    "# Isolate 'is_hymn=0' and 'is_hymn=1'\n",
    "not_hymn = df0[df0['is_hymn'] == 0]['word_count']\n",
    "hymn = df0[df0['is_hymn'] == 1]['word_count']\n",
    "\n",
    "# Perform t-test\n",
    "stats.ttest_ind(a=not_hymn, b=hymn, equal_var=False) # equal_var=False to not assume population variances are ="
   ]
  },
  {
   "cell_type": "markdown",
   "id": "c77dfe0e-5e4c-41f3-a9c9-6d4ea4de3df2",
   "metadata": {},
   "source": [
    "#### Results\n",
    "There is a large difference between the medians and averages between 'is_hymn=0' and 'is_hymn=1'   \n",
    "\n",
    "And, indeed the p-value is phenomenally small (9.192666985612655e-07 < 0.05) so the NULL hypothesis can be rejected \\\n",
    "There is a statistical difference between the means of `word_count` by 'is_hymn=0' and 'is_hymn=1'"
   ]
  },
  {
   "cell_type": "markdown",
   "id": "d43c0e0a-9321-4cfc-96c3-4e903c2a9358",
   "metadata": {},
   "source": [
    "### Two-sample t-test for statistical significance between `is_hymn` statuses and median and mean `whole_polarity` \n",
    "* $H_0$: there is no statistical difference between the *mean* number of `whole_polarity` numbers between 'is_hymn=0' and 'is_hymn=1' – any difference is CHANCE\n",
    "* $H_a$: there is a statistical difference; REJECT $H_0$, because difference is not due to chance; there is a relationship."
   ]
  },
  {
   "cell_type": "code",
   "execution_count": 16,
   "id": "0e855aa4-0ffa-4628-bf86-105784457b00",
   "metadata": {},
   "outputs": [
    {
     "data": {
      "text/plain": [
       "is_hymn\n",
       "0    0.155301\n",
       "1    0.358964\n",
       "Name: whole_polarity, dtype: float64"
      ]
     },
     "execution_count": 16,
     "metadata": {},
     "output_type": "execute_result"
    }
   ],
   "source": [
    "# Calculate median `whole_polarity` for each group in `is_hymn`\n",
    "df0.groupby('is_hymn')['whole_polarity'].median()"
   ]
  },
  {
   "cell_type": "code",
   "execution_count": 17,
   "id": "db1e7b71-f935-48f7-8fe1-73a8b5b1bd88",
   "metadata": {},
   "outputs": [
    {
     "data": {
      "text/plain": [
       "is_hymn\n",
       "0    0.181630\n",
       "1    0.343882\n",
       "Name: whole_polarity, dtype: float64"
      ]
     },
     "execution_count": 17,
     "metadata": {},
     "output_type": "execute_result"
    }
   ],
   "source": [
    "# Calculate mean `whole_polarity` for each group in `is_hymn`\n",
    "df0.groupby('is_hymn')['whole_polarity'].mean()"
   ]
  },
  {
   "cell_type": "code",
   "execution_count": 18,
   "id": "009f08e4-3f44-4d7a-9b3a-768174e6b93c",
   "metadata": {},
   "outputs": [
    {
     "data": {
      "text/plain": [
       "TtestResult(statistic=-8.451312209963868, pvalue=8.579570660847614e-16, df=339.69806614238684)"
      ]
     },
     "execution_count": 18,
     "metadata": {},
     "output_type": "execute_result"
    }
   ],
   "source": [
    "# Conduct a two-sample t-test to compare means\n",
    "# Isolate 'is_hymn=0' and 'is_hymn=1'\n",
    "not_hymn = df0[df0['is_hymn'] == 0]['whole_polarity']\n",
    "hymn = df0[df0['is_hymn'] == 1]['whole_polarity']\n",
    "\n",
    "# Perform t-test\n",
    "stats.ttest_ind(a=not_hymn, b=hymn, equal_var=False)"
   ]
  },
  {
   "cell_type": "markdown",
   "id": "bbf08c17-e8eb-450b-8456-7c737d3b3e2e",
   "metadata": {},
   "source": [
    "#### Results\n",
    "There is a large difference between the medians and averages between 'is_hymn=0' and 'is_hymn=1'    \n",
    "\n",
    "And, indeed the p-value is phenomenally small (pvalue=8.579570660847614e-16 < 0.05) so the NULL hypothesis can be rejected \\\n",
    "There is a statistical difference between the means of `whole_polarity` by 'is_hymn=0' and 'is_hymn=1'"
   ]
  },
  {
   "cell_type": "markdown",
   "id": "f7beb181-6976-4c9d-9cc1-13526c8dd3e2",
   "metadata": {},
   "source": [
    "### Two-sample t-test for statistical significance between `is_hymn` statuses and median and mean `whole_subjectivity` \n",
    "* $H_0$: there is no statistical difference between the *mean* number of `whole_subjectivity` numbers between 'is_hymn=0' and 'is_hymn=1' – any difference is CHANCE\n",
    "* $H_a$: there is a statistical difference; REJECT $H_0$, because difference is not due to chance; there is a relationship."
   ]
  },
  {
   "cell_type": "code",
   "execution_count": 19,
   "id": "f6545c7f-2e4f-479c-84ff-bf019051fe2b",
   "metadata": {},
   "outputs": [
    {
     "data": {
      "text/plain": [
       "is_hymn\n",
       "0    0.539778\n",
       "1    0.619656\n",
       "Name: whole_subjectivity, dtype: float64"
      ]
     },
     "execution_count": 19,
     "metadata": {},
     "output_type": "execute_result"
    }
   ],
   "source": [
    "# Calculate median `whole_polarity` for each group in `is_hymn`\n",
    "df0.groupby('is_hymn')['whole_subjectivity'].median()"
   ]
  },
  {
   "cell_type": "code",
   "execution_count": 20,
   "id": "405fb9d4-278e-4733-9d5f-8dd1ab3a88f5",
   "metadata": {},
   "outputs": [
    {
     "data": {
      "text/plain": [
       "is_hymn\n",
       "0    0.537204\n",
       "1    0.605122\n",
       "Name: whole_subjectivity, dtype: float64"
      ]
     },
     "execution_count": 20,
     "metadata": {},
     "output_type": "execute_result"
    }
   ],
   "source": [
    "# Calculate mean `whole_polarity` for each group in `is_hymn`\n",
    "df0.groupby('is_hymn')['whole_subjectivity'].mean()"
   ]
  },
  {
   "cell_type": "code",
   "execution_count": 21,
   "id": "3c87c69f-a49f-4d9b-acd5-72d312a146bf",
   "metadata": {},
   "outputs": [
    {
     "data": {
      "text/plain": [
       "TtestResult(statistic=-5.129226919810546, pvalue=4.985454716634919e-07, df=328.22082466301015)"
      ]
     },
     "execution_count": 21,
     "metadata": {},
     "output_type": "execute_result"
    }
   ],
   "source": [
    "# Conduct a two-sample t-test to compare means\n",
    "# Isolate 'is_hymn=0' and 'is_hymn=1'\n",
    "not_hymn = df0[df0['is_hymn'] == 0]['whole_subjectivity']\n",
    "hymn = df0[df0['is_hymn'] == 1]['whole_subjectivity']\n",
    "\n",
    "# Perform t-test\n",
    "stats.ttest_ind(a=not_hymn, b=hymn, equal_var=False)"
   ]
  },
  {
   "cell_type": "markdown",
   "id": "ce0edee6-d4b8-43d0-8ea5-80388b652c8d",
   "metadata": {},
   "source": [
    "#### Results\n",
    "There is a large difference between the medians and averages between 'is_hymn=0' and 'is_hymn=1'    \n",
    "\n",
    "And, indeed the p-value is phenomenally small (pvalue=4.985454716634919e-07 < 0.05) so the NULL hypothesis can be rejected \\\n",
    "There is a statistical difference between the means of `whole_subjectivity` by 'is_hymn=0' and 'is_hymn=1'"
   ]
  },
  {
   "cell_type": "markdown",
   "id": "6343036f-5f80-4c05-b119-92b0381149c1",
   "metadata": {},
   "source": [
    "### Results\n",
    "There is a statistical difference between the *means* in all cases:\n",
    "* There is a low p-value for the factor `word_count` by 'is_hymn=1' versus 'is_hymn=0'\n",
    "* There is a low p-value for the factor `whole_polarity` by 'is_hymn=1' versus 'is_hymn=0'\n",
    "* There is a low p-value for the factor `whole_subjectivity` by 'is_hymn=1' versus 'is_hymn=0'\n",
    "\n",
    "A low p-value (here below 0.05) indicates that there is a statistically significant effect or relationship and that it is likely a meaningful predictor.\n",
    "\n",
    "Thus, `word_count`, `whole_polarity`, and `whole_subjectivity` likely have strong relationships with the outcome variable ('is_hymn').\n",
    "\n",
    "Keeping these features in the models \n",
    "* Will likely improve their performances\n",
    "* Will help in interpreting the model's decisions - insights into patterns"
   ]
  },
  {
   "cell_type": "code",
   "execution_count": null,
   "id": "38f1231b-a091-4dee-9150-e82eb150536d",
   "metadata": {},
   "outputs": [],
   "source": []
  }
 ],
 "metadata": {
  "kernelspec": {
   "display_name": "Python 3 (ipykernel)",
   "language": "python",
   "name": "python3"
  },
  "language_info": {
   "codemirror_mode": {
    "name": "ipython",
    "version": 3
   },
   "file_extension": ".py",
   "mimetype": "text/x-python",
   "name": "python",
   "nbconvert_exporter": "python",
   "pygments_lexer": "ipython3",
   "version": "3.11.10"
  }
 },
 "nbformat": 4,
 "nbformat_minor": 5
}
