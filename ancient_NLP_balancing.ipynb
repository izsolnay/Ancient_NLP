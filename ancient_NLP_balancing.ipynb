{
 "cells": [
  {
   "cell_type": "markdown",
   "id": "08fd497f-7d91-47c1-9b96-75808e241772",
   "metadata": {},
   "source": [
    "# Ancient Texts: Prepare new data frame for predictive algorithms\n",
    "### This notebook contains\n",
    "Creation of new dataframe and transformation of data for use in predictive algorithm training\n",
    "\n",
    "### Goal\n",
    "**Transform data set**\n",
    "1. Create new df `df_joined` by joining selected columns from `all_texts_sentiment.csv` and `top_word_df.csv`, key: `Number`\n",
    "2. Create features including new binary target variable `is_hymn`\n",
    "3. Create visualizations of `whole_polarity` and `whole_subjectivity` by new feature `is_hymn`   \n",
    "4. Balance data set as needed\n",
    "\n",
    "*Specifically*\n",
    "* Address texts with low word counts\n",
    "* Address texts with many breaks\n",
    "* Address word count imbalances\n",
    "\n",
    "### Data\n",
    "Original data sets: `all_texts_sentiment.csv` and `top_word_df.csv`\n",
    "\n",
    "Final dateframe `ancient_for_ML` saved to csv\\\n",
    "This df contains 364 observations with 10 features\n",
    "\n",
    "Unmodified features: `b_category`, `number`, `whole_polarity`, `whole_subjectivity`, `word_count`, and `tfidf_top_word`\\\n",
    "New features: `sentence_count`, `is_hymn`, `summary`, and `lemmatized_summaries`\n",
    "\n",
    "Contents of final DataFrame `ancient_for_ML.csv` are listed at the end of this notebook\n",
    "\n",
    "### Steps taken in this notebook\n",
    "1. **Creation of New DataFrame with Sentiment and Polarity Scores, Word Counts, and Top Weighted Words**\n",
    "   - Merged columns from `all_texts_sentiment.csv` and `top_word_df.csv` into new DataFrame\n",
    "<br>\n",
    "<br>\n",
    "2.\t**Feature Creation**\n",
    "   - Applied NLTK sent_tokenize function on `cleaned_text` to generate `sentence_count`\n",
    "   - Created binary target variable `is_hymn` derived from `b_category`, where:\n",
    "     - 1 = tale\n",
    "     - 0 = not tale\n",
    "   - Generated `summary` of the texts exceeding 1200 words\n",
    "   - Produced `lemmatized_summaries` for further analysis\n",
    "<br>\n",
    "<br>\n",
    "3.\t**Data Visualization**\n",
    "   - Plotted relational histograms to visualize `word_count` by `is_hymn` variable\n",
    "   - Created relational density histograms for `word_count` categorized by `is_hymn`\n",
    "   - Generated boxplots to identify outliers in `word_count` based on `is_hymn` classification\n",
    "   - Developed density histograms to illustrate distributions of `whole_polarity` and `whole_subjectivity` by `is_hymn`\n",
    "<br>\n",
    "<br>\n",
    "4.\t**Dataset Balancing**\n",
    "   - Recategorized Inana-Dumuzi 'hymns' to have `is_hymn` set to 0\n",
    "   - Removed fragmentary texts containing fewer than 30 words\n",
    "   - Employed regex findall to assess percentage of breaks in texts and eliminated a few problematic entries\n",
    "   - Conducted additional checks for other potential removals\n",
    "   - Utilized gensim summarize() function to extract and summarize texts exceeding 1200 words, saving the results in `summary`\n",
    "   - Applied py file `prepare_ancient_texts` to prepare text in `summary`, storing results in `lemmatized_summaries`\n",
    "     - py file `prepare_ancient_text` includes functions that employ regex, word_tokenize and WordNetLemmatizer\n",
    "   - Obtained new lemmatized counts for adjusted texts in `lemmatized_summaries`\n",
    "   - Plotted new density histogram using `summary_counts` to assess balance of text word counts relative to target variable `is_hymn`\n",
    "<br>\n",
    "<br>\n",
    "5.\t**Feature Explanation and Data Export**\n",
    "   - Explained new features created during analysis (see end of notebook)\n",
    "   - Saved updated DataFrame to a CSV file named `ancient_for_ML`"
   ]
  },
  {
   "cell_type": "code",
   "execution_count": 1,
   "id": "4583bcd7-d9b6-401a-86a8-b31bc20cfba6",
   "metadata": {},
   "outputs": [
    {
     "name": "stderr",
     "output_type": "stream",
     "text": [
      "[nltk_data] Downloading package punkt to /Users/ilona/nltk_data...\n",
      "[nltk_data]   Package punkt is already up-to-date!\n",
      "[nltk_data] Downloading package punkt to /Users/ilona/nltk_data...\n",
      "[nltk_data]   Package punkt is already up-to-date!\n",
      "[nltk_data] Downloading package stopwords to /Users/ilona/nltk_data...\n",
      "[nltk_data]   Package stopwords is already up-to-date!\n"
     ]
    }
   ],
   "source": [
    "# Import standard operational packages\n",
    "import numpy as np\n",
    "import pandas as pd\n",
    "\n",
    "# Import NLP packages\n",
    "import re\n",
    "import gensim\n",
    "from gensim.summarization import summarize\n",
    "import nltk\n",
    "from nltk.tokenize import sent_tokenize\n",
    "nltk.download('punkt')\n",
    "\n",
    "# Import visualization package\n",
    "import matplotlib.pyplot as plt\n",
    "import seaborn as sns\n",
    "sns.set(style='whitegrid')\n",
    "\n",
    "# Import functions from prepare_ancient_text py file\n",
    "# Contains functions: simple_cleaning, ancient_stopwords, and prepare_text\n",
    "import prepare_ancient_text as ancient\n",
    "\n",
    "# Set Jupyter to display all of the columns (no redaction)\n",
    "pd.set_option('display.max_columns', None)"
   ]
  },
  {
   "cell_type": "markdown",
   "id": "0a8a06c2-8435-4603-b4d1-26c362bd379e",
   "metadata": {},
   "source": [
    "## Create new dataframe with sentiment and polarity scores, word counts, and top weighted words\n",
    "* `all_texts_sentiment.csv`\n",
    "* `top_word_df.csv`"
   ]
  },
  {
   "cell_type": "markdown",
   "id": "2aa878ce-c85e-48f2-ab5b-7df657338d1a",
   "metadata": {},
   "source": [
    "#### Read in `all_texts_sentiment.csv`"
   ]
  },
  {
   "cell_type": "code",
   "execution_count": 2,
   "id": "ed16e056-5d66-4aea-a6e5-4cc5455ff799",
   "metadata": {},
   "outputs": [
    {
     "data": {
      "text/html": [
       "<div>\n",
       "<style scoped>\n",
       "    .dataframe tbody tr th:only-of-type {\n",
       "        vertical-align: middle;\n",
       "    }\n",
       "\n",
       "    .dataframe tbody tr th {\n",
       "        vertical-align: top;\n",
       "    }\n",
       "\n",
       "    .dataframe thead th {\n",
       "        text-align: right;\n",
       "    }\n",
       "</style>\n",
       "<table border=\"1\" class=\"dataframe\">\n",
       "  <thead>\n",
       "    <tr style=\"text-align: right;\">\n",
       "      <th></th>\n",
       "      <th>A_category</th>\n",
       "      <th>B_category</th>\n",
       "      <th>Period</th>\n",
       "      <th>Dynasty</th>\n",
       "      <th>God</th>\n",
       "      <th>2nd_god</th>\n",
       "      <th>Other_divine</th>\n",
       "      <th>Person</th>\n",
       "      <th>Number</th>\n",
       "      <th>Title</th>\n",
       "      <th>Place</th>\n",
       "      <th>Text</th>\n",
       "      <th>American</th>\n",
       "      <th>cleaned_sentences</th>\n",
       "      <th>agg_polarity</th>\n",
       "      <th>agg_subjectivity</th>\n",
       "      <th>joined_text</th>\n",
       "      <th>whole_polarity</th>\n",
       "      <th>whole_subjectivity</th>\n",
       "    </tr>\n",
       "  </thead>\n",
       "  <tbody>\n",
       "    <tr>\n",
       "      <th>0</th>\n",
       "      <td>Narrative and mythological compositions</td>\n",
       "      <td>Narratives featuring deities</td>\n",
       "      <td>NaN</td>\n",
       "      <td>NaN</td>\n",
       "      <td>Enki</td>\n",
       "      <td>Ninhursaga</td>\n",
       "      <td>NaN</td>\n",
       "      <td>NaN</td>\n",
       "      <td>1.1.1</td>\n",
       "      <td>Enki and Ninhursaga</td>\n",
       "      <td>NaN</td>\n",
       "      <td>1-4.  Pure are the cities -- and you are the o...</td>\n",
       "      <td>1-4.  pure are the cities -- and you are the o...</td>\n",
       "      <td>[' pure are the cities; and you are the ones t...</td>\n",
       "      <td>0.12</td>\n",
       "      <td>0.20</td>\n",
       "      <td>pure are the cities; and you are the ones to ...</td>\n",
       "      <td>0.33</td>\n",
       "      <td>0.56</td>\n",
       "    </tr>\n",
       "    <tr>\n",
       "      <th>1</th>\n",
       "      <td>Narrative and mythological compositions</td>\n",
       "      <td>Narratives featuring deities</td>\n",
       "      <td>NaN</td>\n",
       "      <td>NaN</td>\n",
       "      <td>Enki</td>\n",
       "      <td>Ninmah</td>\n",
       "      <td>NaN</td>\n",
       "      <td>NaN</td>\n",
       "      <td>1.1.2</td>\n",
       "      <td>Enki and Ninmah</td>\n",
       "      <td>NaN</td>\n",
       "      <td>1-11.  In those days, in the days when heaven ...</td>\n",
       "      <td>1-11.  in those days, in the days when heaven ...</td>\n",
       "      <td>[' in those days, in the days when heaven and ...</td>\n",
       "      <td>0.06</td>\n",
       "      <td>0.24</td>\n",
       "      <td>in those days, in the days when heaven and ea...</td>\n",
       "      <td>0.11</td>\n",
       "      <td>0.45</td>\n",
       "    </tr>\n",
       "  </tbody>\n",
       "</table>\n",
       "</div>"
      ],
      "text/plain": [
       "                                A_category                    B_category  \\\n",
       "0  Narrative and mythological compositions  Narratives featuring deities   \n",
       "1  Narrative and mythological compositions  Narratives featuring deities   \n",
       "\n",
       "  Period Dynasty   God     2nd_god Other_divine Person Number  \\\n",
       "0    NaN     NaN  Enki  Ninhursaga          NaN    NaN  1.1.1   \n",
       "1    NaN     NaN  Enki      Ninmah          NaN    NaN  1.1.2   \n",
       "\n",
       "                 Title Place  \\\n",
       "0  Enki and Ninhursaga   NaN   \n",
       "1      Enki and Ninmah   NaN   \n",
       "\n",
       "                                                Text  \\\n",
       "0  1-4.  Pure are the cities -- and you are the o...   \n",
       "1  1-11.  In those days, in the days when heaven ...   \n",
       "\n",
       "                                            American  \\\n",
       "0  1-4.  pure are the cities -- and you are the o...   \n",
       "1  1-11.  in those days, in the days when heaven ...   \n",
       "\n",
       "                                   cleaned_sentences  agg_polarity  \\\n",
       "0  [' pure are the cities; and you are the ones t...          0.12   \n",
       "1  [' in those days, in the days when heaven and ...          0.06   \n",
       "\n",
       "   agg_subjectivity                                        joined_text  \\\n",
       "0              0.20   pure are the cities; and you are the ones to ...   \n",
       "1              0.24   in those days, in the days when heaven and ea...   \n",
       "\n",
       "   whole_polarity  whole_subjectivity  \n",
       "0            0.33                0.56  \n",
       "1            0.11                0.45  "
      ]
     },
     "execution_count": 2,
     "metadata": {},
     "output_type": "execute_result"
    }
   ],
   "source": [
    "sentiment = pd.read_csv('all_texts_sentiment.csv')\n",
    "sentiment.head(2).round(2)"
   ]
  },
  {
   "cell_type": "code",
   "execution_count": 3,
   "id": "54fe780b-5a19-4cb1-b1b9-99f5e83d559e",
   "metadata": {},
   "outputs": [
    {
     "name": "stdout",
     "output_type": "stream",
     "text": [
      "<class 'pandas.core.frame.DataFrame'>\n",
      "RangeIndex: 381 entries, 0 to 380\n",
      "Data columns (total 19 columns):\n",
      " #   Column              Non-Null Count  Dtype  \n",
      "---  ------              --------------  -----  \n",
      " 0   A_category          381 non-null    object \n",
      " 1   B_category          381 non-null    object \n",
      " 2   Period              151 non-null    object \n",
      " 3   Dynasty             151 non-null    object \n",
      " 4   God                 238 non-null    object \n",
      " 5   2nd_god             10 non-null     object \n",
      " 6   Other_divine        28 non-null     object \n",
      " 7   Person              184 non-null    object \n",
      " 8   Number              381 non-null    object \n",
      " 9   Title               381 non-null    object \n",
      " 10  Place               28 non-null     object \n",
      " 11  Text                381 non-null    object \n",
      " 12  American            381 non-null    object \n",
      " 13  cleaned_sentences   381 non-null    object \n",
      " 14  agg_polarity        381 non-null    float64\n",
      " 15  agg_subjectivity    381 non-null    float64\n",
      " 16  joined_text         381 non-null    object \n",
      " 17  whole_polarity      381 non-null    float64\n",
      " 18  whole_subjectivity  381 non-null    float64\n",
      "dtypes: float64(4), object(15)\n",
      "memory usage: 56.7+ KB\n"
     ]
    }
   ],
   "source": [
    "# Get basic stats\n",
    "sentiment.info()"
   ]
  },
  {
   "cell_type": "markdown",
   "id": "bce024bb-9b49-4844-a657-0fe9d714fd52",
   "metadata": {},
   "source": [
    "#### Features of interest\n",
    "| Column                                           | Contents                                                                                                                                                                   |\n",
    "|------------------------------------------------|------------------------------------------------------------------------------------------------------------------------------------------------------------------------------|\n",
    "| B_category                                         | genres of texts         |\n",
    "| God                                         | featured god in text         |\n",
    "| Number                                         | original catalog number and key        |\n",
    "| American                                         | text Americanized in str format          |\n",
    "| cleaned_sentences                          | cleaned Americanized text where each value is a list of sentences and since saved to a csv, some value formats have been altered                                        |\n",
    "| agg_polarity                                   | aggregated polarity scores                                 |\n",
    "| agg_subjectivity                                    | aggregated subjectivity scores              |\n",
    "| joined_text            |`cleaned_sentences` joined                         |\n",
    "| whole_polarity       | whole assessment scores for each `joined_text`                        |\n",
    "| whole_subjectivity                                  | whole assessment scores for each `joined_text`   |\n"
   ]
  },
  {
   "cell_type": "code",
   "execution_count": 4,
   "id": "2953b895-6e88-423c-a9cf-d89920660fcb",
   "metadata": {},
   "outputs": [
    {
     "name": "stdout",
     "output_type": "stream",
     "text": [
      "2.5.5.2 A praise poem of Lipit-Eshtar (Lipit-Eshtar B)\n",
      "[' lipit-eštar, proud king, enthroned prince, most seemly offshoot of kingship, who walks like utu, brilliant light of the land, lofty in nobility, riding on the great divine powers; who settles the people in the four quarters; favored by enlil, beloved by ninlil, trustworthy youth with shining eyes, worthy of the throne-dais, whose seemly head is adorned with the tiara, the good heress, who holds in his hand   is perfect with the scepter over the black-headed, prince lipit-eštar, son of enlil, wise shepherd, who leads the people to let them relax …… in pleasant shade, lord, great bison, beloved by anu !', 'your trust is put in mother ninlil ; lipit-eštar, you exert great power.', 'you who speak as sweet as honey, whose name suits the mouth, longed-for husband of inana, to whom enki gave broad wisdom as a gift!', 'nisaba, the woman radiant with joy, the true woman, the scribe, the lady who knows everything, guides your fingers on the clay she makes them put beautiful wedges on the tablets and adorns them with a golden stylus.', \"nisaba generously bestowed upon you the measuring rod, the surveyor's gleaming, the yardstick, and the tablets which confer wisdom.\", \"lipit-eštar, enlil's son, you have realised justice and righteousness.\", 'lord, your goodness covers everything as far as the horizon.', 'king lipit-eštar, counsellor with huge intelligence, who never tires of discussion, wise one whose decisions guide the people, amply wise, knowing everything in great detail!', \"to decide justly the lawsuits of foreign countries, you recognise true and false even in people's thoughts.\", 'lipit-eštar, you …… the wicked, but you also know how to save someone by commuting his death sentence; you know how to free someone from the severe punishment, from the jaws of destruction.', 'the mighty do not commit robbery and the strong do not abuse the weak anymore you have established justice in sumer and akkad and made the land feel content.', \"lipit-eštar, king of isin, king of sumer and akkad, you are the tablet writer of nibru; lipit-eštar, you are the constant attendant of the e-kur, enlil's house.\", \"you are the beloved one of enlil's and ninlil's hearts.\", 'hero ninurta is your mighty commissioner.', 'chief minister nuska is your aid in all matters.', 'you have been rightly chosen by nintur as the purification priest of keš.', 'when in urim, you are the youth who has the attention of suen.', 'you are the one to whom enki gave the good heress in eridug.', \"in unug, lipit-eštar, you are the delight of holy inana's heart.\", 'in isin, ninisina set up your lofty throne-dais.', 'among joyful songs of the heart, in an auspicious regnal year, the prince, the powerful prince surpassing in greatness and majesty, your father išme-dagan, king of the land, made the foundations of his throne firm for you.', 'on the orders of anu and enlil, he   you silenced the loud strife of the foreign countries.', \"lipit-eštar, enlil's son, you have made every mouth speak of your righteousness.\", 'the tablets will forever speak your praise   may your praise never disappear from the tablets in the e-dub-ba-a.', 'may the scribes …… and glorify you greatly!', 'may eulogies of you never cease in the e-dub-ba-a !', 'perfect shepherd, youthful son of enlil, lipit-eštar, be praised!']\n"
     ]
    }
   ],
   "source": [
    "# Examine a text in 'cleaned_sentences'\n",
    "print(sentiment.iloc[125, 8], sentiment.iloc[125, 9])\n",
    "print(sentiment.iloc[125, 13])"
   ]
  },
  {
   "cell_type": "code",
   "execution_count": 5,
   "id": "5e748697-7c88-4e59-924a-896f93e8e914",
   "metadata": {},
   "outputs": [
    {
     "name": "stdout",
     "output_type": "stream",
     "text": [
      "2.5.5.2 A praise poem of Lipit-Eshtar (Lipit-Eshtar B)\n"
     ]
    },
    {
     "data": {
      "text/plain": [
       "\" lipit-eštar, proud king, enthroned prince, most seemly offshoot of kingship, who walks like utu, brilliant light of the land, lofty in nobility, riding on the great divine powers; who settles the people in the four quarters; favored by enlil, beloved by ninlil, trustworthy youth with shining eyes, worthy of the throne-dais, whose seemly head is adorned with the tiara, the good heress, who holds in his hand   is perfect with the scepter over the black-headed, prince lipit-eštar, son of enlil, wise shepherd, who leads the people to let them relax …… in pleasant shade, lord, great bison, beloved by anu ! your trust is put in mother ninlil ; lipit-eštar, you exert great power. you who speak as sweet as honey, whose name suits the mouth, longed-for husband of inana, to whom enki gave broad wisdom as a gift! nisaba, the woman radiant with joy, the true woman, the scribe, the lady who knows everything, guides your fingers on the clay she makes them put beautiful wedges on the tablets and adorns them with a golden stylus. nisaba generously bestowed upon you the measuring rod, the surveyor's gleaming, the yardstick, and the tablets which confer wisdom. lipit-eštar, enlil's son, you have realised justice and righteousness. lord, your goodness covers everything as far as the horizon. king lipit-eštar, counsellor with huge intelligence, who never tires of discussion, wise one whose decisions guide the people, amply wise, knowing everything in great detail! to decide justly the lawsuits of foreign countries, you recognise true and false even in people's thoughts. lipit-eštar, you …… the wicked, but you also know how to save someone by commuting his death sentence; you know how to free someone from the severe punishment, from the jaws of destruction. the mighty do not commit robbery and the strong do not abuse the weak anymore you have established justice in sumer and akkad and made the land feel content. lipit-eštar, king of isin, king of sumer and akkad, you are the tablet writer of nibru; lipit-eštar, you are the constant attendant of the e-kur, enlil's house. you are the beloved one of enlil's and ninlil's hearts. hero ninurta is your mighty commissioner. chief minister nuska is your aid in all matters. you have been rightly chosen by nintur as the purification priest of keš. when in urim, you are the youth who has the attention of suen. you are the one to whom enki gave the good heress in eridug. in unug, lipit-eštar, you are the delight of holy inana's heart. in isin, ninisina set up your lofty throne-dais. among joyful songs of the heart, in an auspicious regnal year, the prince, the powerful prince surpassing in greatness and majesty, your father išme-dagan, king of the land, made the foundations of his throne firm for you. on the orders of anu and enlil, he   you silenced the loud strife of the foreign countries. lipit-eštar, enlil's son, you have made every mouth speak of your righteousness. the tablets will forever speak your praise   may your praise never disappear from the tablets in the e-dub-ba-a. may the scribes …… and glorify you greatly! may eulogies of you never cease in the e-dub-ba-a ! perfect shepherd, youthful son of enlil, lipit-eštar, be praised!\""
      ]
     },
     "execution_count": 5,
     "metadata": {},
     "output_type": "execute_result"
    }
   ],
   "source": [
    "# Examine same text in 'joined_text'\n",
    "print(sentiment.iloc[125, 8], sentiment.iloc[125, 9])\n",
    "sentiment.iloc[125, 16]"
   ]
  },
  {
   "cell_type": "code",
   "execution_count": 6,
   "id": "b377b372-b10f-4454-80bf-540d9da08b9d",
   "metadata": {},
   "outputs": [
    {
     "name": "stdout",
     "output_type": "stream",
     "text": [
      "<class 'pandas.core.frame.DataFrame'>\n",
      "RangeIndex: 381 entries, 0 to 380\n",
      "Data columns (total 6 columns):\n",
      " #   Column              Non-Null Count  Dtype  \n",
      "---  ------              --------------  -----  \n",
      " 0   B_category          381 non-null    object \n",
      " 1   God                 238 non-null    object \n",
      " 2   Number              381 non-null    object \n",
      " 3   joined_text         381 non-null    object \n",
      " 4   whole_polarity      381 non-null    float64\n",
      " 5   whole_subjectivity  381 non-null    float64\n",
      "dtypes: float64(2), object(4)\n",
      "memory usage: 18.0+ KB\n",
      "None\n"
     ]
    },
    {
     "data": {
      "text/html": [
       "<div>\n",
       "<style scoped>\n",
       "    .dataframe tbody tr th:only-of-type {\n",
       "        vertical-align: middle;\n",
       "    }\n",
       "\n",
       "    .dataframe tbody tr th {\n",
       "        vertical-align: top;\n",
       "    }\n",
       "\n",
       "    .dataframe thead th {\n",
       "        text-align: right;\n",
       "    }\n",
       "</style>\n",
       "<table border=\"1\" class=\"dataframe\">\n",
       "  <thead>\n",
       "    <tr style=\"text-align: right;\">\n",
       "      <th></th>\n",
       "      <th>B_category</th>\n",
       "      <th>God</th>\n",
       "      <th>Number</th>\n",
       "      <th>joined_text</th>\n",
       "      <th>whole_polarity</th>\n",
       "      <th>whole_subjectivity</th>\n",
       "    </tr>\n",
       "  </thead>\n",
       "  <tbody>\n",
       "    <tr>\n",
       "      <th>0</th>\n",
       "      <td>Narratives featuring deities</td>\n",
       "      <td>Enki</td>\n",
       "      <td>1.1.1</td>\n",
       "      <td>pure are the cities; and you are the ones to ...</td>\n",
       "      <td>0.330364</td>\n",
       "      <td>0.559201</td>\n",
       "    </tr>\n",
       "    <tr>\n",
       "      <th>1</th>\n",
       "      <td>Narratives featuring deities</td>\n",
       "      <td>Enki</td>\n",
       "      <td>1.1.2</td>\n",
       "      <td>in those days, in the days when heaven and ea...</td>\n",
       "      <td>0.110600</td>\n",
       "      <td>0.449011</td>\n",
       "    </tr>\n",
       "    <tr>\n",
       "      <th>2</th>\n",
       "      <td>Narratives featuring deities</td>\n",
       "      <td>Enki</td>\n",
       "      <td>1.1.3</td>\n",
       "      <td>grandiloquent lord of heaven and earth, self-...</td>\n",
       "      <td>0.382723</td>\n",
       "      <td>0.596019</td>\n",
       "    </tr>\n",
       "    <tr>\n",
       "      <th>3</th>\n",
       "      <td>Narratives featuring deities</td>\n",
       "      <td>Enki</td>\n",
       "      <td>1.1.4</td>\n",
       "      <td>in those remote days, when the fates were det...</td>\n",
       "      <td>0.380222</td>\n",
       "      <td>0.576855</td>\n",
       "    </tr>\n",
       "    <tr>\n",
       "      <th>4</th>\n",
       "      <td>Narratives featuring deities</td>\n",
       "      <td>Enlil</td>\n",
       "      <td>1.2.1</td>\n",
       "      <td>there was a city, there was a city; the one w...</td>\n",
       "      <td>0.355707</td>\n",
       "      <td>0.528989</td>\n",
       "    </tr>\n",
       "  </tbody>\n",
       "</table>\n",
       "</div>"
      ],
      "text/plain": [
       "                     B_category    God Number  \\\n",
       "0  Narratives featuring deities   Enki  1.1.1   \n",
       "1  Narratives featuring deities   Enki  1.1.2   \n",
       "2  Narratives featuring deities   Enki  1.1.3   \n",
       "3  Narratives featuring deities   Enki  1.1.4   \n",
       "4  Narratives featuring deities  Enlil  1.2.1   \n",
       "\n",
       "                                         joined_text  whole_polarity  \\\n",
       "0   pure are the cities; and you are the ones to ...        0.330364   \n",
       "1   in those days, in the days when heaven and ea...        0.110600   \n",
       "2   grandiloquent lord of heaven and earth, self-...        0.382723   \n",
       "3   in those remote days, when the fates were det...        0.380222   \n",
       "4   there was a city, there was a city; the one w...        0.355707   \n",
       "\n",
       "   whole_subjectivity  \n",
       "0            0.559201  \n",
       "1            0.449011  \n",
       "2            0.596019  \n",
       "3            0.576855  \n",
       "4            0.528989  "
      ]
     },
     "execution_count": 6,
     "metadata": {},
     "output_type": "execute_result"
    }
   ],
   "source": [
    "# Select columns to work with\n",
    "sentiment_for_join = sentiment[['B_category', 'God', 'Number', 'joined_text', 'whole_polarity', 'whole_subjectivity']].reset_index(drop=True)\n",
    "print(sentiment_for_join.info())\n",
    "sentiment_for_join.head()"
   ]
  },
  {
   "cell_type": "markdown",
   "id": "6123d235-d01b-4c56-96c6-e1ebda494459",
   "metadata": {},
   "source": [
    "#### Read in `top_word_df.csv`"
   ]
  },
  {
   "cell_type": "code",
   "execution_count": 7,
   "id": "ceee61f1-d6c2-4af7-8e25-860ede89458d",
   "metadata": {},
   "outputs": [
    {
     "data": {
      "text/html": [
       "<div>\n",
       "<style scoped>\n",
       "    .dataframe tbody tr th:only-of-type {\n",
       "        vertical-align: middle;\n",
       "    }\n",
       "\n",
       "    .dataframe tbody tr th {\n",
       "        vertical-align: top;\n",
       "    }\n",
       "\n",
       "    .dataframe thead th {\n",
       "        text-align: right;\n",
       "    }\n",
       "</style>\n",
       "<table border=\"1\" class=\"dataframe\">\n",
       "  <thead>\n",
       "    <tr style=\"text-align: right;\">\n",
       "      <th></th>\n",
       "      <th>B_category</th>\n",
       "      <th>God</th>\n",
       "      <th>Number</th>\n",
       "      <th>Person</th>\n",
       "      <th>Title</th>\n",
       "      <th>joined_text</th>\n",
       "      <th>lemmatized</th>\n",
       "      <th>word_count</th>\n",
       "      <th>token_counts</th>\n",
       "      <th>tfidf_top_word</th>\n",
       "      <th>tfidf_weight</th>\n",
       "    </tr>\n",
       "  </thead>\n",
       "  <tbody>\n",
       "    <tr>\n",
       "      <th>0</th>\n",
       "      <td>Narratives featuring deities</td>\n",
       "      <td>Enki</td>\n",
       "      <td>1.1.1</td>\n",
       "      <td>NaN</td>\n",
       "      <td>Enki and Ninhursaga</td>\n",
       "      <td>pure are the cities; and you are the ones to ...</td>\n",
       "      <td>pure city you one they allotted pure dilmun la...</td>\n",
       "      <td>1440</td>\n",
       "      <td>[('you', 51), ('he', 45), ('enki', 39), ('mont...</td>\n",
       "      <td>oil like</td>\n",
       "      <td>0.46</td>\n",
       "    </tr>\n",
       "    <tr>\n",
       "      <th>1</th>\n",
       "      <td>Narratives featuring deities</td>\n",
       "      <td>Enki</td>\n",
       "      <td>1.1.2</td>\n",
       "      <td>NaN</td>\n",
       "      <td>Enki and Ninmah</td>\n",
       "      <td>in those days, in the days when heaven and ea...</td>\n",
       "      <td>day day heaven earth created night night heave...</td>\n",
       "      <td>825</td>\n",
       "      <td>[('not', 31), ('enki', 27), ('you', 22), ('i',...</td>\n",
       "      <td>could not</td>\n",
       "      <td>0.63</td>\n",
       "    </tr>\n",
       "  </tbody>\n",
       "</table>\n",
       "</div>"
      ],
      "text/plain": [
       "                     B_category   God Number Person                Title  \\\n",
       "0  Narratives featuring deities  Enki  1.1.1    NaN  Enki and Ninhursaga   \n",
       "1  Narratives featuring deities  Enki  1.1.2    NaN      Enki and Ninmah   \n",
       "\n",
       "                                         joined_text  \\\n",
       "0   pure are the cities; and you are the ones to ...   \n",
       "1   in those days, in the days when heaven and ea...   \n",
       "\n",
       "                                          lemmatized  word_count  \\\n",
       "0  pure city you one they allotted pure dilmun la...        1440   \n",
       "1  day day heaven earth created night night heave...         825   \n",
       "\n",
       "                                        token_counts tfidf_top_word  \\\n",
       "0  [('you', 51), ('he', 45), ('enki', 39), ('mont...       oil like   \n",
       "1  [('not', 31), ('enki', 27), ('you', 22), ('i',...      could not   \n",
       "\n",
       "   tfidf_weight  \n",
       "0          0.46  \n",
       "1          0.63  "
      ]
     },
     "execution_count": 7,
     "metadata": {},
     "output_type": "execute_result"
    }
   ],
   "source": [
    "top_word_df = pd.read_csv('top_word_df.csv')\n",
    "top_word_df.head(2).round(2)"
   ]
  },
  {
   "cell_type": "code",
   "execution_count": 8,
   "id": "8fdb13d8-77c3-4bdd-a011-7c5d8e9abe0b",
   "metadata": {},
   "outputs": [
    {
     "name": "stdout",
     "output_type": "stream",
     "text": [
      "<class 'pandas.core.frame.DataFrame'>\n",
      "RangeIndex: 381 entries, 0 to 380\n",
      "Data columns (total 11 columns):\n",
      " #   Column          Non-Null Count  Dtype  \n",
      "---  ------          --------------  -----  \n",
      " 0   B_category      381 non-null    object \n",
      " 1   God             238 non-null    object \n",
      " 2   Number          381 non-null    object \n",
      " 3   Person          184 non-null    object \n",
      " 4   Title           381 non-null    object \n",
      " 5   joined_text     381 non-null    object \n",
      " 6   lemmatized      381 non-null    object \n",
      " 7   word_count      381 non-null    int64  \n",
      " 8   token_counts    381 non-null    object \n",
      " 9   tfidf_top_word  381 non-null    object \n",
      " 10  tfidf_weight    381 non-null    float64\n",
      "dtypes: float64(1), int64(1), object(9)\n",
      "memory usage: 32.9+ KB\n"
     ]
    }
   ],
   "source": [
    "# Get basic stats\n",
    "top_word_df.info()"
   ]
  },
  {
   "cell_type": "markdown",
   "id": "4e838c47-72ef-406c-9939-50cc630522cf",
   "metadata": {},
   "source": [
    "#### Features of interest\n",
    "| Column                                           | Contents                                                                                                                                                                   |\n",
    "|------------------------------------------------|------------------------------------------------------------------------------------------------------------------------------------------------------------------------------|\n",
    "| Number                                         | original catalog number and key        |\n",
    "| word_count                                         | word count for each text in `lemmatized` column          |\n",
    "| tfidf_top_word                          | top weighted bi-gram for each text in `lemmatized` column       |"
   ]
  },
  {
   "cell_type": "code",
   "execution_count": 9,
   "id": "e250ad9e-1ebb-47f7-83e1-ed43fea4864a",
   "metadata": {
    "scrolled": true
   },
   "outputs": [
    {
     "name": "stdout",
     "output_type": "stream",
     "text": [
      "2.5.5.2 A praise poem of Lipit-Eshtar (Lipit-Eshtar B)\n"
     ]
    },
    {
     "data": {
      "text/plain": [
       "\" lipit-eštar, proud king, enthroned prince, most seemly offshoot of kingship, who walks like utu, brilliant light of the land, lofty in nobility, riding on the great divine powers; who settles the people in the four quarters; favored by enlil, beloved by ninlil, trustworthy youth with shining eyes, worthy of the throne-dais, whose seemly head is adorned with the tiara, the good heress, who holds in his hand   is perfect with the scepter over the black-headed, prince lipit-eštar, son of enlil, wise shepherd, who leads the people to let them relax …… in pleasant shade, lord, great bison, beloved by anu ! your trust is put in mother ninlil ; lipit-eštar, you exert great power. you who speak as sweet as honey, whose name suits the mouth, longed-for husband of inana, to whom enki gave broad wisdom as a gift! nisaba, the woman radiant with joy, the true woman, the scribe, the lady who knows everything, guides your fingers on the clay she makes them put beautiful wedges on the tablets and adorns them with a golden stylus. nisaba generously bestowed upon you the measuring rod, the surveyor's gleaming, the yardstick, and the tablets which confer wisdom. lipit-eštar, enlil's son, you have realised justice and righteousness. lord, your goodness covers everything as far as the horizon. king lipit-eštar, counsellor with huge intelligence, who never tires of discussion, wise one whose decisions guide the people, amply wise, knowing everything in great detail! to decide justly the lawsuits of foreign countries, you recognise true and false even in people's thoughts. lipit-eštar, you …… the wicked, but you also know how to save someone by commuting his death sentence; you know how to free someone from the severe punishment, from the jaws of destruction. the mighty do not commit robbery and the strong do not abuse the weak anymore you have established justice in sumer and akkad and made the land feel content. lipit-eštar, king of isin, king of sumer and akkad, you are the tablet writer of nibru; lipit-eštar, you are the constant attendant of the e-kur, enlil's house. you are the beloved one of enlil's and ninlil's hearts. hero ninurta is your mighty commissioner. chief minister nuska is your aid in all matters. you have been rightly chosen by nintur as the purification priest of keš. when in urim, you are the youth who has the attention of suen. you are the one to whom enki gave the good heress in eridug. in unug, lipit-eštar, you are the delight of holy inana's heart. in isin, ninisina set up your lofty throne-dais. among joyful songs of the heart, in an auspicious regnal year, the prince, the powerful prince surpassing in greatness and majesty, your father išme-dagan, king of the land, made the foundations of his throne firm for you. on the orders of anu and enlil, he   you silenced the loud strife of the foreign countries. lipit-eštar, enlil's son, you have made every mouth speak of your righteousness. the tablets will forever speak your praise   may your praise never disappear from the tablets in the e-dub-ba-a. may the scribes …… and glorify you greatly! may eulogies of you never cease in the e-dub-ba-a ! perfect shepherd, youthful son of enlil, lipit-eštar, be praised!\""
      ]
     },
     "execution_count": 9,
     "metadata": {},
     "output_type": "execute_result"
    }
   ],
   "source": [
    "# Examine text row 125 in 'joined_text'\n",
    "print(top_word_df.iloc[125, 2], top_word_df.iloc[125, 4])\n",
    "top_word_df.iloc[125, 5]"
   ]
  },
  {
   "cell_type": "code",
   "execution_count": 10,
   "id": "5b1fcd88-a635-41b1-8e2b-a12b6e2e3c62",
   "metadata": {},
   "outputs": [
    {
     "name": "stdout",
     "output_type": "stream",
     "text": [
      "2.5.5.2 A praise poem of Lipit-Eshtar (Lipit-Eshtar B)\n"
     ]
    },
    {
     "data": {
      "text/plain": [
       "'lipit-eštar proud king enthroned prince seemly offshoot kingship walk like utu brilliant light land lofty nobility riding great divine power settle people four quarter favored enlil beloved ninlil trustworthy youth shining eye worthy throne-dais whose seemly head adorned tiara good heress hold hand perfect scepter black-headed prince lipit-eštar son enlil wise shepherd lead people let relax pleasant shade lord great bison beloved anu trust put mother ninlil lipit-eštar you exert great power you speak sweet honey whose name suit mouth longed-for husband inana enki gave broad wisdom gift nisaba woman radiant joy true woman scribe lady know everything guide finger clay she make put beautiful wedge tablet adorns golden stylus nisaba generously bestowed upon you measuring rod surveyor gleaming yardstick tablet confer wisdom lipit-eštar enlil son you realised justice righteousness lord goodness cover everything far horizon king lipit-eštar counsellor huge intelligence never tire discussion wise one whose decision guide people amply wise knowing everything great detail decide justly lawsuit foreign country you recognise true false even people thought lipit-eštar you wicked you also know save someone commuting death sentence you know free someone severe punishment jaw destruction mighty not commit robbery strong not abuse weak anymore you established justice sumer akkad made land feel content lipit-eštar king isin king sumer akkad you tablet writer nibru lipit-eštar you constant attendant e-kur enlil house you beloved one enlil ninlil heart hero ninurta mighty commissioner chief minister nuska aid matter you rightly chosen nintur purification priest keš urim you youth attention suen you one enki gave good heress eridug unug lipit-eštar you delight holy inana heart isin ninisina set lofty throne-dais among joyful song heart auspicious regnal year prince powerful prince surpassing greatness majesty father išme-dagan king land made foundation throne firm you order anu enlil he you silenced loud strife foreign country lipit-eštar enlil son you made every mouth speak righteousness tablet forever speak praise may praise never disappear tablet e-dub-ba-a may scribe glorify you greatly may eulogy you never cease e-dub-ba-a perfect shepherd youthful son enlil lipit-eštar praised'"
      ]
     },
     "execution_count": 10,
     "metadata": {},
     "output_type": "execute_result"
    }
   ],
   "source": [
    "# Examine a text row 125 in 'lemmatized'\n",
    "print(top_word_df.iloc[125, 2], top_word_df.iloc[125, 4])\n",
    "top_word_df.iloc[125, 6]"
   ]
  },
  {
   "cell_type": "code",
   "execution_count": 11,
   "id": "3595de9e-873f-4159-a7ef-d39d81707cb0",
   "metadata": {},
   "outputs": [
    {
     "name": "stdout",
     "output_type": "stream",
     "text": [
      "<class 'pandas.core.frame.DataFrame'>\n",
      "RangeIndex: 381 entries, 0 to 380\n",
      "Data columns (total 3 columns):\n",
      " #   Column          Non-Null Count  Dtype \n",
      "---  ------          --------------  ----- \n",
      " 0   Number          381 non-null    object\n",
      " 1   word_count      381 non-null    int64 \n",
      " 2   tfidf_top_word  381 non-null    object\n",
      "dtypes: int64(1), object(2)\n",
      "memory usage: 9.1+ KB\n",
      "None\n"
     ]
    },
    {
     "data": {
      "text/html": [
       "<div>\n",
       "<style scoped>\n",
       "    .dataframe tbody tr th:only-of-type {\n",
       "        vertical-align: middle;\n",
       "    }\n",
       "\n",
       "    .dataframe tbody tr th {\n",
       "        vertical-align: top;\n",
       "    }\n",
       "\n",
       "    .dataframe thead th {\n",
       "        text-align: right;\n",
       "    }\n",
       "</style>\n",
       "<table border=\"1\" class=\"dataframe\">\n",
       "  <thead>\n",
       "    <tr style=\"text-align: right;\">\n",
       "      <th></th>\n",
       "      <th>Number</th>\n",
       "      <th>word_count</th>\n",
       "      <th>tfidf_top_word</th>\n",
       "    </tr>\n",
       "  </thead>\n",
       "  <tbody>\n",
       "    <tr>\n",
       "      <th>0</th>\n",
       "      <td>1.1.1</td>\n",
       "      <td>1440</td>\n",
       "      <td>oil like</td>\n",
       "    </tr>\n",
       "    <tr>\n",
       "      <th>1</th>\n",
       "      <td>1.1.2</td>\n",
       "      <td>825</td>\n",
       "      <td>could not</td>\n",
       "    </tr>\n",
       "    <tr>\n",
       "      <th>2</th>\n",
       "      <td>1.1.3</td>\n",
       "      <td>2247</td>\n",
       "      <td>placed charge</td>\n",
       "    </tr>\n",
       "    <tr>\n",
       "      <th>3</th>\n",
       "      <td>1.1.4</td>\n",
       "      <td>629</td>\n",
       "      <td>lapis lazuli</td>\n",
       "    </tr>\n",
       "    <tr>\n",
       "      <th>4</th>\n",
       "      <td>1.2.1</td>\n",
       "      <td>763</td>\n",
       "      <td>enlil lord</td>\n",
       "    </tr>\n",
       "  </tbody>\n",
       "</table>\n",
       "</div>"
      ],
      "text/plain": [
       "  Number  word_count tfidf_top_word\n",
       "0  1.1.1        1440       oil like\n",
       "1  1.1.2         825      could not\n",
       "2  1.1.3        2247  placed charge\n",
       "3  1.1.4         629   lapis lazuli\n",
       "4  1.2.1         763     enlil lord"
      ]
     },
     "execution_count": 11,
     "metadata": {},
     "output_type": "execute_result"
    }
   ],
   "source": [
    "# Select columns\n",
    "top_word_for_join = top_word_df[['Number', 'word_count', 'tfidf_top_word']].reset_index(drop=True)\n",
    "print(top_word_for_join.info())\n",
    "top_word_for_join.head()"
   ]
  },
  {
   "cell_type": "code",
   "execution_count": 12,
   "id": "3b2cee2c-ad44-4b86-ba8b-5c88dd2d3a39",
   "metadata": {},
   "outputs": [
    {
     "name": "stdout",
     "output_type": "stream",
     "text": [
      "<class 'pandas.core.frame.DataFrame'>\n",
      "Int64Index: 381 entries, 0 to 380\n",
      "Data columns (total 8 columns):\n",
      " #   Column              Non-Null Count  Dtype  \n",
      "---  ------              --------------  -----  \n",
      " 0   B_category          381 non-null    object \n",
      " 1   God                 238 non-null    object \n",
      " 2   Number              381 non-null    object \n",
      " 3   joined_text         381 non-null    object \n",
      " 4   whole_polarity      381 non-null    float64\n",
      " 5   whole_subjectivity  381 non-null    float64\n",
      " 6   word_count          381 non-null    int64  \n",
      " 7   tfidf_top_word      381 non-null    object \n",
      "dtypes: float64(2), int64(1), object(5)\n",
      "memory usage: 26.8+ KB\n",
      "None\n"
     ]
    },
    {
     "data": {
      "text/html": [
       "<div>\n",
       "<style scoped>\n",
       "    .dataframe tbody tr th:only-of-type {\n",
       "        vertical-align: middle;\n",
       "    }\n",
       "\n",
       "    .dataframe tbody tr th {\n",
       "        vertical-align: top;\n",
       "    }\n",
       "\n",
       "    .dataframe thead th {\n",
       "        text-align: right;\n",
       "    }\n",
       "</style>\n",
       "<table border=\"1\" class=\"dataframe\">\n",
       "  <thead>\n",
       "    <tr style=\"text-align: right;\">\n",
       "      <th></th>\n",
       "      <th>B_category</th>\n",
       "      <th>God</th>\n",
       "      <th>Number</th>\n",
       "      <th>joined_text</th>\n",
       "      <th>whole_polarity</th>\n",
       "      <th>whole_subjectivity</th>\n",
       "      <th>word_count</th>\n",
       "      <th>tfidf_top_word</th>\n",
       "    </tr>\n",
       "  </thead>\n",
       "  <tbody>\n",
       "    <tr>\n",
       "      <th>0</th>\n",
       "      <td>Narratives featuring deities</td>\n",
       "      <td>Enki</td>\n",
       "      <td>1.1.1</td>\n",
       "      <td>pure are the cities; and you are the ones to ...</td>\n",
       "      <td>0.330364</td>\n",
       "      <td>0.559201</td>\n",
       "      <td>1440</td>\n",
       "      <td>oil like</td>\n",
       "    </tr>\n",
       "    <tr>\n",
       "      <th>1</th>\n",
       "      <td>Narratives featuring deities</td>\n",
       "      <td>Enki</td>\n",
       "      <td>1.1.2</td>\n",
       "      <td>in those days, in the days when heaven and ea...</td>\n",
       "      <td>0.110600</td>\n",
       "      <td>0.449011</td>\n",
       "      <td>825</td>\n",
       "      <td>could not</td>\n",
       "    </tr>\n",
       "  </tbody>\n",
       "</table>\n",
       "</div>"
      ],
      "text/plain": [
       "                     B_category   God Number  \\\n",
       "0  Narratives featuring deities  Enki  1.1.1   \n",
       "1  Narratives featuring deities  Enki  1.1.2   \n",
       "\n",
       "                                         joined_text  whole_polarity  \\\n",
       "0   pure are the cities; and you are the ones to ...        0.330364   \n",
       "1   in those days, in the days when heaven and ea...        0.110600   \n",
       "\n",
       "   whole_subjectivity  word_count tfidf_top_word  \n",
       "0            0.559201        1440       oil like  \n",
       "1            0.449011         825      could not  "
      ]
     },
     "execution_count": 12,
     "metadata": {},
     "output_type": "execute_result"
    }
   ],
   "source": [
    "# Merge 'sentiment_for_join' and 'top_word_for_join'\n",
    "df_joined = sentiment_for_join.merge(top_word_for_join[['Number', 'word_count', 'tfidf_top_word']],on='Number', how='outer') # 'outer' includes all keys\n",
    "print(df_joined.info())\n",
    "df_joined.head(2)"
   ]
  },
  {
   "cell_type": "markdown",
   "id": "9210ff74-5db9-42ab-a740-6580c4dc45f9",
   "metadata": {},
   "source": [
    "#### Perform a simple cleaning on `joined_text`"
   ]
  },
  {
   "cell_type": "code",
   "execution_count": 13,
   "id": "4ef4fcf8-0e1d-4447-ab86-34bd35b85c8a",
   "metadata": {},
   "outputs": [
    {
     "data": {
      "text/html": [
       "<div>\n",
       "<style scoped>\n",
       "    .dataframe tbody tr th:only-of-type {\n",
       "        vertical-align: middle;\n",
       "    }\n",
       "\n",
       "    .dataframe tbody tr th {\n",
       "        vertical-align: top;\n",
       "    }\n",
       "\n",
       "    .dataframe thead th {\n",
       "        text-align: right;\n",
       "    }\n",
       "</style>\n",
       "<table border=\"1\" class=\"dataframe\">\n",
       "  <thead>\n",
       "    <tr style=\"text-align: right;\">\n",
       "      <th></th>\n",
       "      <th>B_category</th>\n",
       "      <th>God</th>\n",
       "      <th>Number</th>\n",
       "      <th>joined_text</th>\n",
       "      <th>whole_polarity</th>\n",
       "      <th>whole_subjectivity</th>\n",
       "      <th>word_count</th>\n",
       "      <th>tfidf_top_word</th>\n",
       "      <th>cleaned_text</th>\n",
       "    </tr>\n",
       "  </thead>\n",
       "  <tbody>\n",
       "    <tr>\n",
       "      <th>0</th>\n",
       "      <td>Narratives featuring deities</td>\n",
       "      <td>Enki</td>\n",
       "      <td>1.1.1</td>\n",
       "      <td>pure are the cities; and you are the ones to ...</td>\n",
       "      <td>0.330364</td>\n",
       "      <td>0.559201</td>\n",
       "      <td>1440</td>\n",
       "      <td>oil like</td>\n",
       "      <td>pure are the cities; and you are the ones to w...</td>\n",
       "    </tr>\n",
       "    <tr>\n",
       "      <th>1</th>\n",
       "      <td>Narratives featuring deities</td>\n",
       "      <td>Enki</td>\n",
       "      <td>1.1.2</td>\n",
       "      <td>in those days, in the days when heaven and ea...</td>\n",
       "      <td>0.110600</td>\n",
       "      <td>0.449011</td>\n",
       "      <td>825</td>\n",
       "      <td>could not</td>\n",
       "      <td>in those days, in the days when heaven and ear...</td>\n",
       "    </tr>\n",
       "  </tbody>\n",
       "</table>\n",
       "</div>"
      ],
      "text/plain": [
       "                     B_category   God Number  \\\n",
       "0  Narratives featuring deities  Enki  1.1.1   \n",
       "1  Narratives featuring deities  Enki  1.1.2   \n",
       "\n",
       "                                         joined_text  whole_polarity  \\\n",
       "0   pure are the cities; and you are the ones to ...        0.330364   \n",
       "1   in those days, in the days when heaven and ea...        0.110600   \n",
       "\n",
       "   whole_subjectivity  word_count tfidf_top_word  \\\n",
       "0            0.559201        1440       oil like   \n",
       "1            0.449011         825      could not   \n",
       "\n",
       "                                        cleaned_text  \n",
       "0  pure are the cities; and you are the ones to w...  \n",
       "1  in those days, in the days when heaven and ear...  "
      ]
     },
     "execution_count": 13,
     "metadata": {},
     "output_type": "execute_result"
    }
   ],
   "source": [
    "# Apply 'simple_cleaning' function in imported py file prepare_ancient_text\n",
    "df_joined['cleaned_text'] = df_joined['joined_text'].apply(ancient.simple_cleaning)\n",
    "df_joined.head(2)"
   ]
  },
  {
   "cell_type": "code",
   "execution_count": 14,
   "id": "cea777ea-8f20-4ae7-a645-0410feb5031c",
   "metadata": {},
   "outputs": [
    {
     "data": {
      "text/plain": [
       "Index(['b_category', 'god', 'number', 'joined_text', 'whole_polarity',\n",
       "       'whole_subjectivity', 'word_count', 'tfidf_top_word', 'cleaned_text'],\n",
       "      dtype='object')"
      ]
     },
     "execution_count": 14,
     "metadata": {},
     "output_type": "execute_result"
    }
   ],
   "source": [
    "# Lowercase columns for consistency\n",
    "df_joined.rename(columns={'B_category': 'b_category', 'God': 'god', 'Number': 'number'}, inplace=True)\n",
    "df_joined.columns"
   ]
  },
  {
   "cell_type": "markdown",
   "id": "9e3f6033-645d-4bb0-ad87-b401b0eb627f",
   "metadata": {},
   "source": [
    "## Create Features\n",
    "* `sentence count`: number of sentences in `joined_text` using NLTK sent_tokenize function\n",
    "* `is_hymn`: binary 0/1 if text is a hymn"
   ]
  },
  {
   "cell_type": "markdown",
   "id": "59057c18-528c-4da5-9f6b-74a83391a850",
   "metadata": {},
   "source": [
    "### Create feature `sentence_count` from `cleaned_text`"
   ]
  },
  {
   "cell_type": "code",
   "execution_count": 15,
   "id": "26caeba5-0908-4f51-a4d8-01b0178d7b7d",
   "metadata": {},
   "outputs": [],
   "source": [
    "# Create function to count sentences\n",
    "def count_sentences(text):\n",
    "    return len(sent_tokenize(text))"
   ]
  },
  {
   "cell_type": "code",
   "execution_count": 16,
   "id": "6a933871-4fce-404b-92c3-64afe71d169e",
   "metadata": {},
   "outputs": [
    {
     "data": {
      "text/html": [
       "<div>\n",
       "<style scoped>\n",
       "    .dataframe tbody tr th:only-of-type {\n",
       "        vertical-align: middle;\n",
       "    }\n",
       "\n",
       "    .dataframe tbody tr th {\n",
       "        vertical-align: top;\n",
       "    }\n",
       "\n",
       "    .dataframe thead th {\n",
       "        text-align: right;\n",
       "    }\n",
       "</style>\n",
       "<table border=\"1\" class=\"dataframe\">\n",
       "  <thead>\n",
       "    <tr style=\"text-align: right;\">\n",
       "      <th></th>\n",
       "      <th>b_category</th>\n",
       "      <th>god</th>\n",
       "      <th>number</th>\n",
       "      <th>joined_text</th>\n",
       "      <th>whole_polarity</th>\n",
       "      <th>whole_subjectivity</th>\n",
       "      <th>word_count</th>\n",
       "      <th>tfidf_top_word</th>\n",
       "      <th>cleaned_text</th>\n",
       "      <th>sentence_count</th>\n",
       "    </tr>\n",
       "  </thead>\n",
       "  <tbody>\n",
       "    <tr>\n",
       "      <th>0</th>\n",
       "      <td>Narratives featuring deities</td>\n",
       "      <td>Enki</td>\n",
       "      <td>1.1.1</td>\n",
       "      <td>pure are the cities; and you are the ones to ...</td>\n",
       "      <td>0.330364</td>\n",
       "      <td>0.559201</td>\n",
       "      <td>1440</td>\n",
       "      <td>oil like</td>\n",
       "      <td>pure are the cities; and you are the ones to w...</td>\n",
       "      <td>167</td>\n",
       "    </tr>\n",
       "    <tr>\n",
       "      <th>1</th>\n",
       "      <td>Narratives featuring deities</td>\n",
       "      <td>Enki</td>\n",
       "      <td>1.1.2</td>\n",
       "      <td>in those days, in the days when heaven and ea...</td>\n",
       "      <td>0.110600</td>\n",
       "      <td>0.449011</td>\n",
       "      <td>825</td>\n",
       "      <td>could not</td>\n",
       "      <td>in those days, in the days when heaven and ear...</td>\n",
       "      <td>81</td>\n",
       "    </tr>\n",
       "  </tbody>\n",
       "</table>\n",
       "</div>"
      ],
      "text/plain": [
       "                     b_category   god number  \\\n",
       "0  Narratives featuring deities  Enki  1.1.1   \n",
       "1  Narratives featuring deities  Enki  1.1.2   \n",
       "\n",
       "                                         joined_text  whole_polarity  \\\n",
       "0   pure are the cities; and you are the ones to ...        0.330364   \n",
       "1   in those days, in the days when heaven and ea...        0.110600   \n",
       "\n",
       "   whole_subjectivity  word_count tfidf_top_word  \\\n",
       "0            0.559201        1440       oil like   \n",
       "1            0.449011         825      could not   \n",
       "\n",
       "                                        cleaned_text  sentence_count  \n",
       "0  pure are the cities; and you are the ones to w...             167  \n",
       "1  in those days, in the days when heaven and ear...              81  "
      ]
     },
     "execution_count": 16,
     "metadata": {},
     "output_type": "execute_result"
    }
   ],
   "source": [
    "# Apply 'count_sentences' function to 'cleaned_text'\n",
    "# Create new column\n",
    "df_joined['sentence_count'] = df_joined['cleaned_text'].apply(count_sentences)\n",
    "df_joined.head(2)"
   ]
  },
  {
   "cell_type": "markdown",
   "id": "1f59dd29-b6e8-4d9f-9052-741b417b7ebc",
   "metadata": {},
   "source": [
    "#### Save new df and drop no longer needed `joined_text`"
   ]
  },
  {
   "cell_type": "code",
   "execution_count": 17,
   "id": "b099e012-fea9-42da-866b-630ec382f042",
   "metadata": {},
   "outputs": [
    {
     "data": {
      "text/html": [
       "<div>\n",
       "<style scoped>\n",
       "    .dataframe tbody tr th:only-of-type {\n",
       "        vertical-align: middle;\n",
       "    }\n",
       "\n",
       "    .dataframe tbody tr th {\n",
       "        vertical-align: top;\n",
       "    }\n",
       "\n",
       "    .dataframe thead th {\n",
       "        text-align: right;\n",
       "    }\n",
       "</style>\n",
       "<table border=\"1\" class=\"dataframe\">\n",
       "  <thead>\n",
       "    <tr style=\"text-align: right;\">\n",
       "      <th></th>\n",
       "      <th>b_category</th>\n",
       "      <th>god</th>\n",
       "      <th>number</th>\n",
       "      <th>whole_polarity</th>\n",
       "      <th>whole_subjectivity</th>\n",
       "      <th>word_count</th>\n",
       "      <th>tfidf_top_word</th>\n",
       "      <th>cleaned_text</th>\n",
       "      <th>sentence_count</th>\n",
       "    </tr>\n",
       "  </thead>\n",
       "  <tbody>\n",
       "    <tr>\n",
       "      <th>0</th>\n",
       "      <td>Narratives featuring deities</td>\n",
       "      <td>Enki</td>\n",
       "      <td>1.1.1</td>\n",
       "      <td>0.330364</td>\n",
       "      <td>0.559201</td>\n",
       "      <td>1440</td>\n",
       "      <td>oil like</td>\n",
       "      <td>pure are the cities; and you are the ones to w...</td>\n",
       "      <td>167</td>\n",
       "    </tr>\n",
       "    <tr>\n",
       "      <th>1</th>\n",
       "      <td>Narratives featuring deities</td>\n",
       "      <td>Enki</td>\n",
       "      <td>1.1.2</td>\n",
       "      <td>0.110600</td>\n",
       "      <td>0.449011</td>\n",
       "      <td>825</td>\n",
       "      <td>could not</td>\n",
       "      <td>in those days, in the days when heaven and ear...</td>\n",
       "      <td>81</td>\n",
       "    </tr>\n",
       "  </tbody>\n",
       "</table>\n",
       "</div>"
      ],
      "text/plain": [
       "                     b_category   god number  whole_polarity  \\\n",
       "0  Narratives featuring deities  Enki  1.1.1        0.330364   \n",
       "1  Narratives featuring deities  Enki  1.1.2        0.110600   \n",
       "\n",
       "   whole_subjectivity  word_count tfidf_top_word  \\\n",
       "0            0.559201        1440       oil like   \n",
       "1            0.449011         825      could not   \n",
       "\n",
       "                                        cleaned_text  sentence_count  \n",
       "0  pure are the cities; and you are the ones to w...             167  \n",
       "1  in those days, in the days when heaven and ear...              81  "
      ]
     },
     "execution_count": 17,
     "metadata": {},
     "output_type": "execute_result"
    }
   ],
   "source": [
    "# Drop 'joined_text'\n",
    "df_drop = df_joined.drop('joined_text', axis=1)\n",
    "df_drop.head(2)"
   ]
  },
  {
   "cell_type": "code",
   "execution_count": 18,
   "id": "09365c20-6725-44fc-9fa3-db5daccf151c",
   "metadata": {},
   "outputs": [],
   "source": [
    "# Save final joined df to a CSV \n",
    "df_drop.to_csv('joined_df.csv', index=False)"
   ]
  },
  {
   "cell_type": "code",
   "execution_count": 19,
   "id": "6eefa938-e01c-45be-b2c7-b8e8d292d060",
   "metadata": {},
   "outputs": [
    {
     "name": "stdout",
     "output_type": "stream",
     "text": [
      "<class 'pandas.core.frame.DataFrame'>\n",
      "RangeIndex: 381 entries, 0 to 380\n",
      "Data columns (total 9 columns):\n",
      " #   Column              Non-Null Count  Dtype  \n",
      "---  ------              --------------  -----  \n",
      " 0   b_category          381 non-null    object \n",
      " 1   god                 238 non-null    object \n",
      " 2   number              381 non-null    object \n",
      " 3   whole_polarity      381 non-null    float64\n",
      " 4   whole_subjectivity  381 non-null    float64\n",
      " 5   word_count          381 non-null    int64  \n",
      " 6   tfidf_top_word      381 non-null    object \n",
      " 7   cleaned_text        381 non-null    object \n",
      " 8   sentence_count      381 non-null    int64  \n",
      "dtypes: float64(2), int64(2), object(5)\n",
      "memory usage: 26.9+ KB\n",
      "None\n"
     ]
    },
    {
     "data": {
      "text/html": [
       "<div>\n",
       "<style scoped>\n",
       "    .dataframe tbody tr th:only-of-type {\n",
       "        vertical-align: middle;\n",
       "    }\n",
       "\n",
       "    .dataframe tbody tr th {\n",
       "        vertical-align: top;\n",
       "    }\n",
       "\n",
       "    .dataframe thead th {\n",
       "        text-align: right;\n",
       "    }\n",
       "</style>\n",
       "<table border=\"1\" class=\"dataframe\">\n",
       "  <thead>\n",
       "    <tr style=\"text-align: right;\">\n",
       "      <th></th>\n",
       "      <th>b_category</th>\n",
       "      <th>god</th>\n",
       "      <th>number</th>\n",
       "      <th>whole_polarity</th>\n",
       "      <th>whole_subjectivity</th>\n",
       "      <th>word_count</th>\n",
       "      <th>tfidf_top_word</th>\n",
       "      <th>cleaned_text</th>\n",
       "      <th>sentence_count</th>\n",
       "    </tr>\n",
       "  </thead>\n",
       "  <tbody>\n",
       "    <tr>\n",
       "      <th>0</th>\n",
       "      <td>Narratives featuring deities</td>\n",
       "      <td>Enki</td>\n",
       "      <td>1.1.1</td>\n",
       "      <td>0.33</td>\n",
       "      <td>0.56</td>\n",
       "      <td>1440</td>\n",
       "      <td>oil like</td>\n",
       "      <td>pure are the cities; and you are the ones to w...</td>\n",
       "      <td>167</td>\n",
       "    </tr>\n",
       "    <tr>\n",
       "      <th>1</th>\n",
       "      <td>Narratives featuring deities</td>\n",
       "      <td>Enki</td>\n",
       "      <td>1.1.2</td>\n",
       "      <td>0.11</td>\n",
       "      <td>0.45</td>\n",
       "      <td>825</td>\n",
       "      <td>could not</td>\n",
       "      <td>in those days, in the days when heaven and ear...</td>\n",
       "      <td>81</td>\n",
       "    </tr>\n",
       "  </tbody>\n",
       "</table>\n",
       "</div>"
      ],
      "text/plain": [
       "                     b_category   god number  whole_polarity  \\\n",
       "0  Narratives featuring deities  Enki  1.1.1            0.33   \n",
       "1  Narratives featuring deities  Enki  1.1.2            0.11   \n",
       "\n",
       "   whole_subjectivity  word_count tfidf_top_word  \\\n",
       "0                0.56        1440       oil like   \n",
       "1                0.45         825      could not   \n",
       "\n",
       "                                        cleaned_text  sentence_count  \n",
       "0  pure are the cities; and you are the ones to w...             167  \n",
       "1  in those days, in the days when heaven and ear...              81  "
      ]
     },
     "execution_count": 19,
     "metadata": {},
     "output_type": "execute_result"
    }
   ],
   "source": [
    "df0 = pd.read_csv('joined_df.csv')\n",
    "print(df0.info())\n",
    "df0.head(2).round(2)"
   ]
  },
  {
   "cell_type": "markdown",
   "id": "e7029e55-fdbf-435b-b381-3fde92011431",
   "metadata": {},
   "source": [
    "### Create feature `is_hymn` from `b_category`\n",
    "Assign texts to either hymn or not hymn\n",
    "* 1 = hymn, praise, or prayer\n",
    "* 0 = not hymn, praise, or prayer"
   ]
  },
  {
   "cell_type": "code",
   "execution_count": 20,
   "id": "461a1bbd-2094-4165-bd3c-cff8bb5a9306",
   "metadata": {},
   "outputs": [
    {
     "name": "stdout",
     "output_type": "stream",
     "text": [
      "25\n"
     ]
    },
    {
     "data": {
      "text/plain": [
       "array(['Narratives featuring deities', 'Narratives featuring heroes',\n",
       "       'King lists and other compositions', 'City laments',\n",
       "       'Royal praise poetry and hymns to deities on behalf of rulers',\n",
       "       'Praise poetry and hymns for unknown rulers',\n",
       "       'Royal correspondence', 'Other letters and letter-prayers',\n",
       "       'Hymns addressed to deities',\n",
       "       'Hymns addressed to or concerning temples', 'School stories',\n",
       "       'Debate poems', 'Dialogues and diatribes', 'Personal laments',\n",
       "       'Reflective compositions', 'Lu-digira compositions',\n",
       "       'Types of song', 'Didactic compositions', 'Short tales',\n",
       "       'Offering compositions', 'Other', 'Lexical compositions',\n",
       "       'Animal fables', 'Proverb collections', 'Other proverbs'],\n",
       "      dtype=object)"
      ]
     },
     "execution_count": 20,
     "metadata": {},
     "output_type": "execute_result"
    }
   ],
   "source": [
    "print(df0.b_category.nunique())\n",
    "df0.b_category.unique()"
   ]
  },
  {
   "cell_type": "markdown",
   "id": "669e0eaf-9da6-42da-974a-93d3c19d4261",
   "metadata": {},
   "source": [
    "**Hymn, praise, or prayer**\n",
    "> 'Royal praise poetry and hymns to deities on behalf of rulers'\\\n",
    "> 'Praise poetry and hymns for unknown rulers'\\\n",
    "> 'Hymns addressed to deities'\\\n",
    "> 'Hymns addressed to or concerning temples'\\\n",
    "> 'Other letters and letter-prayers'\n",
    "\n",
    "**Not hymn, praise, or prayer**\n",
    "> 'Narratives featuring deities',\n",
    "> 'Narratives featuring heroes',\n",
    "> 'King lists and other compositions',\n",
    "> 'City laments',\n",
    "> 'Royal correspondence',\n",
    "> 'School stories',\n",
    "> 'Debate poems',\n",
    "> 'Dialogues and diatribes',\n",
    "> 'Personal laments',\n",
    "> 'Lu-digira compositions',\n",
    "> 'Types of song',\n",
    "> 'Didactic compositions',\n",
    "> 'Short tales',\n",
    "> 'Animal fables',\n",
    "> 'Offering compositions',\n",
    "> 'Proverb collections',\n",
    "> 'Other proverbs,\n",
    "> 'Reflective compositions',\n",
    "> 'Other',\n",
    "> 'Lexical compositions'"
   ]
  },
  {
   "cell_type": "code",
   "execution_count": 21,
   "id": "aff85402-cec5-4df0-89b9-7faba7a89b96",
   "metadata": {},
   "outputs": [
    {
     "data": {
      "text/html": [
       "<div>\n",
       "<style scoped>\n",
       "    .dataframe tbody tr th:only-of-type {\n",
       "        vertical-align: middle;\n",
       "    }\n",
       "\n",
       "    .dataframe tbody tr th {\n",
       "        vertical-align: top;\n",
       "    }\n",
       "\n",
       "    .dataframe thead th {\n",
       "        text-align: right;\n",
       "    }\n",
       "</style>\n",
       "<table border=\"1\" class=\"dataframe\">\n",
       "  <thead>\n",
       "    <tr style=\"text-align: right;\">\n",
       "      <th></th>\n",
       "      <th>b_category</th>\n",
       "      <th>god</th>\n",
       "      <th>number</th>\n",
       "      <th>whole_polarity</th>\n",
       "      <th>whole_subjectivity</th>\n",
       "      <th>word_count</th>\n",
       "      <th>tfidf_top_word</th>\n",
       "      <th>cleaned_text</th>\n",
       "      <th>sentence_count</th>\n",
       "      <th>is_hymn</th>\n",
       "    </tr>\n",
       "  </thead>\n",
       "  <tbody>\n",
       "    <tr>\n",
       "      <th>0</th>\n",
       "      <td>Narratives featuring deities</td>\n",
       "      <td>Enki</td>\n",
       "      <td>1.1.1</td>\n",
       "      <td>0.330364</td>\n",
       "      <td>0.559201</td>\n",
       "      <td>1440</td>\n",
       "      <td>oil like</td>\n",
       "      <td>pure are the cities; and you are the ones to w...</td>\n",
       "      <td>167</td>\n",
       "      <td>0</td>\n",
       "    </tr>\n",
       "    <tr>\n",
       "      <th>1</th>\n",
       "      <td>Narratives featuring deities</td>\n",
       "      <td>Enki</td>\n",
       "      <td>1.1.2</td>\n",
       "      <td>0.110600</td>\n",
       "      <td>0.449011</td>\n",
       "      <td>825</td>\n",
       "      <td>could not</td>\n",
       "      <td>in those days, in the days when heaven and ear...</td>\n",
       "      <td>81</td>\n",
       "      <td>0</td>\n",
       "    </tr>\n",
       "    <tr>\n",
       "      <th>2</th>\n",
       "      <td>Narratives featuring deities</td>\n",
       "      <td>Enki</td>\n",
       "      <td>1.1.3</td>\n",
       "      <td>0.382723</td>\n",
       "      <td>0.596019</td>\n",
       "      <td>2247</td>\n",
       "      <td>placed charge</td>\n",
       "      <td>grandiloquent lord of heaven and earth, self-r...</td>\n",
       "      <td>236</td>\n",
       "      <td>0</td>\n",
       "    </tr>\n",
       "    <tr>\n",
       "      <th>3</th>\n",
       "      <td>Narratives featuring deities</td>\n",
       "      <td>Enki</td>\n",
       "      <td>1.1.4</td>\n",
       "      <td>0.380222</td>\n",
       "      <td>0.576855</td>\n",
       "      <td>629</td>\n",
       "      <td>lapis lazuli</td>\n",
       "      <td>in those remote days, when the fates were dete...</td>\n",
       "      <td>72</td>\n",
       "      <td>0</td>\n",
       "    </tr>\n",
       "    <tr>\n",
       "      <th>4</th>\n",
       "      <td>Narratives featuring deities</td>\n",
       "      <td>Enlil</td>\n",
       "      <td>1.2.1</td>\n",
       "      <td>0.355707</td>\n",
       "      <td>0.528989</td>\n",
       "      <td>763</td>\n",
       "      <td>enlil lord</td>\n",
       "      <td>there was a city, there was a city; the one we...</td>\n",
       "      <td>131</td>\n",
       "      <td>0</td>\n",
       "    </tr>\n",
       "  </tbody>\n",
       "</table>\n",
       "</div>"
      ],
      "text/plain": [
       "                     b_category    god number  whole_polarity  \\\n",
       "0  Narratives featuring deities   Enki  1.1.1        0.330364   \n",
       "1  Narratives featuring deities   Enki  1.1.2        0.110600   \n",
       "2  Narratives featuring deities   Enki  1.1.3        0.382723   \n",
       "3  Narratives featuring deities   Enki  1.1.4        0.380222   \n",
       "4  Narratives featuring deities  Enlil  1.2.1        0.355707   \n",
       "\n",
       "   whole_subjectivity  word_count tfidf_top_word  \\\n",
       "0            0.559201        1440       oil like   \n",
       "1            0.449011         825      could not   \n",
       "2            0.596019        2247  placed charge   \n",
       "3            0.576855         629   lapis lazuli   \n",
       "4            0.528989         763     enlil lord   \n",
       "\n",
       "                                        cleaned_text  sentence_count  is_hymn  \n",
       "0  pure are the cities; and you are the ones to w...             167        0  \n",
       "1  in those days, in the days when heaven and ear...              81        0  \n",
       "2  grandiloquent lord of heaven and earth, self-r...             236        0  \n",
       "3  in those remote days, when the fates were dete...              72        0  \n",
       "4  there was a city, there was a city; the one we...             131        0  "
      ]
     },
     "execution_count": 21,
     "metadata": {},
     "output_type": "execute_result"
    }
   ],
   "source": [
    "# Create new binary column hymn/prayer or not hymn/prayer called 'is_hymn'\n",
    "df0['is_hymn'] = df0['b_category'].apply(lambda x: 1 if x in ['Royal praise poetry and hymns to deities on behalf of rulers', \n",
    "                                                              'Praise poetry and hymns for unknown rulers', \n",
    "                                                              'Hymns addressed to deities', \n",
    "                                                              'Hymns addressed to or concerning temples',\n",
    "                                                              'Other letters and letter-prayers'\n",
    "                                                             ] \n",
    "                                         else 0\n",
    "                                        )\n",
    "df0.head()"
   ]
  },
  {
   "cell_type": "markdown",
   "id": "fadbc9c5-9348-459b-b58b-3f68ed097501",
   "metadata": {},
   "source": [
    "#### Check balance of data set"
   ]
  },
  {
   "cell_type": "code",
   "execution_count": 22,
   "id": "f0f73ad0-5af9-4465-a68f-521387c9db9d",
   "metadata": {},
   "outputs": [
    {
     "data": {
      "text/html": [
       "<div>\n",
       "<style scoped>\n",
       "    .dataframe tbody tr th:only-of-type {\n",
       "        vertical-align: middle;\n",
       "    }\n",
       "\n",
       "    .dataframe tbody tr th {\n",
       "        vertical-align: top;\n",
       "    }\n",
       "\n",
       "    .dataframe thead th {\n",
       "        text-align: right;\n",
       "    }\n",
       "</style>\n",
       "<table border=\"1\" class=\"dataframe\">\n",
       "  <thead>\n",
       "    <tr style=\"text-align: right;\">\n",
       "      <th></th>\n",
       "      <th>count</th>\n",
       "      <th>mean</th>\n",
       "      <th>std</th>\n",
       "      <th>min</th>\n",
       "      <th>25%</th>\n",
       "      <th>50%</th>\n",
       "      <th>75%</th>\n",
       "      <th>max</th>\n",
       "    </tr>\n",
       "    <tr>\n",
       "      <th>is_hymn</th>\n",
       "      <th></th>\n",
       "      <th></th>\n",
       "      <th></th>\n",
       "      <th></th>\n",
       "      <th></th>\n",
       "      <th></th>\n",
       "      <th></th>\n",
       "      <th></th>\n",
       "    </tr>\n",
       "  </thead>\n",
       "  <tbody>\n",
       "    <tr>\n",
       "      <th>0</th>\n",
       "      <td>131.0</td>\n",
       "      <td>718.0</td>\n",
       "      <td>853.0</td>\n",
       "      <td>8.0</td>\n",
       "      <td>150.0</td>\n",
       "      <td>359.0</td>\n",
       "      <td>1052.0</td>\n",
       "      <td>5305.0</td>\n",
       "    </tr>\n",
       "    <tr>\n",
       "      <th>1</th>\n",
       "      <td>250.0</td>\n",
       "      <td>266.0</td>\n",
       "      <td>326.0</td>\n",
       "      <td>4.0</td>\n",
       "      <td>108.0</td>\n",
       "      <td>175.0</td>\n",
       "      <td>305.0</td>\n",
       "      <td>2836.0</td>\n",
       "    </tr>\n",
       "  </tbody>\n",
       "</table>\n",
       "</div>"
      ],
      "text/plain": [
       "         count   mean    std  min    25%    50%     75%     max\n",
       "is_hymn                                                        \n",
       "0        131.0  718.0  853.0  8.0  150.0  359.0  1052.0  5305.0\n",
       "1        250.0  266.0  326.0  4.0  108.0  175.0   305.0  2836.0"
      ]
     },
     "execution_count": 22,
     "metadata": {},
     "output_type": "execute_result"
    }
   ],
   "source": [
    "# Get distribution statistics for 'is_hymn' by 'word_count'\n",
    "df0.groupby('is_hymn')['word_count'].describe().round()"
   ]
  },
  {
   "cell_type": "code",
   "execution_count": 23,
   "id": "08997c99-64b1-4593-83a8-b4d27b32fb15",
   "metadata": {},
   "outputs": [
    {
     "data": {
      "text/html": [
       "<div>\n",
       "<style scoped>\n",
       "    .dataframe tbody tr th:only-of-type {\n",
       "        vertical-align: middle;\n",
       "    }\n",
       "\n",
       "    .dataframe tbody tr th {\n",
       "        vertical-align: top;\n",
       "    }\n",
       "\n",
       "    .dataframe thead th {\n",
       "        text-align: right;\n",
       "    }\n",
       "</style>\n",
       "<table border=\"1\" class=\"dataframe\">\n",
       "  <thead>\n",
       "    <tr style=\"text-align: right;\">\n",
       "      <th></th>\n",
       "      <th>count</th>\n",
       "      <th>mean</th>\n",
       "      <th>std</th>\n",
       "      <th>min</th>\n",
       "      <th>25%</th>\n",
       "      <th>50%</th>\n",
       "      <th>75%</th>\n",
       "      <th>max</th>\n",
       "    </tr>\n",
       "    <tr>\n",
       "      <th>is_hymn</th>\n",
       "      <th></th>\n",
       "      <th></th>\n",
       "      <th></th>\n",
       "      <th></th>\n",
       "      <th></th>\n",
       "      <th></th>\n",
       "      <th></th>\n",
       "      <th></th>\n",
       "    </tr>\n",
       "  </thead>\n",
       "  <tbody>\n",
       "    <tr>\n",
       "      <th>0</th>\n",
       "      <td>131.0</td>\n",
       "      <td>92.0</td>\n",
       "      <td>94.0</td>\n",
       "      <td>3.0</td>\n",
       "      <td>21.0</td>\n",
       "      <td>57.0</td>\n",
       "      <td>138.0</td>\n",
       "      <td>452.0</td>\n",
       "    </tr>\n",
       "    <tr>\n",
       "      <th>1</th>\n",
       "      <td>250.0</td>\n",
       "      <td>33.0</td>\n",
       "      <td>33.0</td>\n",
       "      <td>1.0</td>\n",
       "      <td>13.0</td>\n",
       "      <td>25.0</td>\n",
       "      <td>40.0</td>\n",
       "      <td>213.0</td>\n",
       "    </tr>\n",
       "  </tbody>\n",
       "</table>\n",
       "</div>"
      ],
      "text/plain": [
       "         count  mean   std  min   25%   50%    75%    max\n",
       "is_hymn                                                  \n",
       "0        131.0  92.0  94.0  3.0  21.0  57.0  138.0  452.0\n",
       "1        250.0  33.0  33.0  1.0  13.0  25.0   40.0  213.0"
      ]
     },
     "execution_count": 23,
     "metadata": {},
     "output_type": "execute_result"
    }
   ],
   "source": [
    "# Get distribution statistics for 'is_hymn' by 'sentence_count'\n",
    "df0.groupby('is_hymn')['sentence_count'].describe().round()"
   ]
  },
  {
   "cell_type": "markdown",
   "id": "6d319809-0ffc-4526-b301-ef57129c49ab",
   "metadata": {},
   "source": [
    "#### Note\n",
    "* 'is_hymn=1' has almost twice as many observations\n",
    "* 'is_hymn=0' has on average well over twice as many words\n",
    "* The standard deviation for 'is_hymn=0' is more extreme than 'is_hymn=1'\n",
    "\n",
    "*Steps to balance*\n",
    "* Some texts have almost no words and should be removed\n",
    "* Some texts have over 3000 words and should be summarized\n",
    "* Perhaps upscale 'is_hymn=0' texts\n",
    "* Recategorize Inana and Dumuzi 'hymns' as narratives"
   ]
  },
  {
   "cell_type": "markdown",
   "id": "a668e60c-6c36-4d4a-8bf6-7621e8562fc3",
   "metadata": {},
   "source": [
    "## Create Visualizations\n",
    "* Relational histograms for `word_count` by `is_hymn`\n",
    "* Relational density histograms for `word_count` by `is_hymn`\n",
    "* Boxplots to show outliers for `word_count` by `is_hymn`\n",
    "* Relational density histograms for `whole_polarity` and `whole_subjectivity` distributions by `is_hymn` for interest"
   ]
  },
  {
   "cell_type": "markdown",
   "id": "d8f9d5ad-b8d7-4702-b277-a5d54eeae949",
   "metadata": {},
   "source": [
    "### Relational histograms for `word_count` by `is_hymn`"
   ]
  },
  {
   "cell_type": "markdown",
   "id": "7bce0d2b-81c9-4a91-a1c1-901a94c5e488",
   "metadata": {},
   "source": [
    "\n"
   ]
  },
  {
   "cell_type": "code",
   "execution_count": 24,
   "id": "b8b51785-3761-444a-b8cd-371d4e182b80",
   "metadata": {},
   "outputs": [
    {
     "data": {
      "image/png": "[encoded data removed]",
      "text/plain": [
       "<Figure size 1080x360 with 1 Axes>"
      ]
     },
     "metadata": {},
     "output_type": "display_data"
    }
   ],
   "source": [
    "# Plot relational histograms for 'word_count' by 'is_hymn'\n",
    "plt.figure(figsize = (15, 5))\n",
    "\n",
    "sns.histplot(data=df0, x='word_count', hue='is_hymn', multiple='layer', bins=100)\n",
    "plt.title('Histograms for is_hymn by word_count')\n",
    "\n",
    "plt.tight_layout()\n",
    "plt.show();"
   ]
  },
  {
   "cell_type": "markdown",
   "id": "bf20816e-90a9-46c0-8b1a-d07118c89992",
   "metadata": {},
   "source": [
    "### Relational density histograms for `word_count` by `is_hymn`\n",
    "* stat='density'\\\n",
    "By setting stat='density' the heights of the histogram bars represent the *proportion* of the total data that falls within each bin, where the density is set to 1 <br>\n",
    "Setting to 1 allows for a more meaningful comparison between uneven datasets by showing how frequently different ranges of word counts occur within each category\n",
    "\n",
    "* kde=True\\\n",
    "Setting KDE to true overlays a smooth Kernel Density Estimate curve on top of the histogram <br>\n",
    "The KDE curve provides an estimate of the probability density"
   ]
  },
  {
   "cell_type": "code",
   "execution_count": 25,
   "id": "0ebc6690-44a0-417c-9a82-a7a40c9c5bf3",
   "metadata": {},
   "outputs": [
    {
     "data": {
      "image/png": "[encoded data removed]",
      "text/plain": [
       "<Figure size 1080x360 with 1 Axes>"
      ]
     },
     "metadata": {},
     "output_type": "display_data"
    }
   ],
   "source": [
    "# Plot density histograms for 'word_count' by 'is_hymn'\n",
    "plt.figure(figsize=(15, 5))\n",
    "\n",
    "no_hymn = df0.loc[df0['is_hymn']== 0]['word_count']\n",
    "hymn = df0.loc[df0['is_hymn']== 1]['word_count']\n",
    "plt.title('Density histograms for is_hymn by word_count')\n",
    "\n",
    "# Plot for 'no_hymn'\n",
    "sns.histplot(no_hymn, kde=True, color='blue', label='no_hymn', edgecolor='black', stat='density', bins=100)\n",
    "\n",
    "# Plot for 'hymn'\n",
    "sns.histplot(hymn, kde=True, color='orange', label='hymn', edgecolor='black', stat='density', bins=100)\n",
    "\n",
    "plt.legend()\n",
    "plt.show()"
   ]
  },
  {
   "cell_type": "markdown",
   "id": "60066d72-cf1f-456d-a625-a3a66ce135c5",
   "metadata": {},
   "source": [
    "##### Note: 'is_hymn = 0' has fewer observations and many genres within it have only 1 example\n",
    "Distributions have similar arcs"
   ]
  },
  {
   "cell_type": "markdown",
   "id": "2d7cdd73-b4f0-44f4-89e5-3e87a37d7290",
   "metadata": {},
   "source": [
    "### Box plots for `word_count` by `is_hymn`"
   ]
  },
  {
   "cell_type": "code",
   "execution_count": 26,
   "id": "769f471a-3965-4d99-8837-f0098acb0d52",
   "metadata": {},
   "outputs": [
    {
     "data": {
      "image/png": "[encoded data removed]",
      "text/plain": [
       "<Figure size 1008x288 with 2 Axes>"
      ]
     },
     "metadata": {},
     "output_type": "display_data"
    }
   ],
   "source": [
    "# Create enlarged boxplots to show outliers\n",
    "fig, axes = plt.subplots(1, 2, figsize=(14, 4))   # Set spacing and dimensions for subplots\n",
    "\n",
    "fig.suptitle('Boxplots for outlier detection for `word_count` by `is_hymn`')\n",
    "\n",
    "sns.boxplot(ax=axes[0], x = hymn, showfliers=True).set(title='hymn')\n",
    "sns.boxplot(ax=axes[1], x = no_hymn, showfliers=True).set(title='no_hymn')\n",
    "\n",
    "plt.show();"
   ]
  },
  {
   "cell_type": "markdown",
   "id": "5e03243f-d84a-4d87-a566-e50575df8ab3",
   "metadata": {},
   "source": [
    "#### Results for `word_count` plots\n",
    "(Keeping in mind that `word_count` is based on the texts lemmatized\n",
    "\n",
    "*Mean Word Count*\n",
    "* At ~ 718 words on average 'is_hymn = 0' texts are generally much longer and may either be repetitive  or likely detailed\n",
    "* At an average of 266 words, 'is_hymn = 1' texts are much shorter\n",
    "\n",
    "*Standard Deviation, percentiles, and skew*\n",
    "* With an SD of 853.45, 'is_hymn = 0' texts demonstrate a high degree of variability in text length\n",
    "  * The extreme range of 8 to 5,305 words likely reveals gross inconsistency between the genres which comprise 'is_hymn=0'\n",
    "  * With the 75th percentile at 1,051.5 words, a significant number of texts are very long\n",
    "  * With the boxplot demonstrating a strong right (positive) skew and extended whiskers a few exceptionally long texts are driving the average higher\n",
    "* Conversely, 'is_hymn = 1' texts with an SD of 325.55, demonstrate less variability\n",
    "  * Although they range from 4 to 2,836 words, they are a bit more consistent in length\n",
    "  * With the 75th percentile at 305 words, the majority of texts are relatively short and focused\n",
    "  * The boxplot also demonstrates a strong right (positive) skew indicating that a few texts may either be repetitive or highly detailed\n",
    "\n",
    "*Conclusion*\n",
    "* 'is_hymn = 0' texts are comparatively extensive and detailed. They are more suitable for in-depth analyses.\n",
    "* 'is_hymn = 1' texts are defined more by brevity and, assumed, clarity, making them ideal for succinct communication of ideas."
   ]
  },
  {
   "cell_type": "markdown",
   "id": "2ad0a739-2170-4a9c-8286-b28e85a44290",
   "metadata": {},
   "source": [
    "### Relational density histograms for `whole_polarity` and `whole_subjectivity` distributions by `is_hymn`"
   ]
  },
  {
   "cell_type": "code",
   "execution_count": null,
   "id": "b273febb-aa6e-4255-aba4-0be0d3bc2d35",
   "metadata": {},
   "outputs": [],
   "source": [
    "# Plot density histograms for 'whole_polarity' by 'is_hymn'\n",
    "plt.figure(figsize=(15, 5))\n",
    "\n",
    "hymn = df0.loc[df0['is_hymn']== 1]['whole_polarity']\n",
    "no_hymn = df0.loc[df0['is_hymn']== 0]['whole_polarity']\n",
    "\n",
    "# Plot for 'no_hymn'\n",
    "sns.histplot(no_hymn, kde=True, color='blue', label='no_hymn', edgecolor='black', stat='density', bins=30)\n",
    "\n",
    "# Plot for 'hymn'\n",
    "sns.histplot(hymn, kde=True, color='orange', label='hymn', edgecolor='black', stat='density', bins=30)\n",
    "\n",
    "plt.legend()\n",
    "plt.show()"
   ]
  },
  {
   "cell_type": "code",
   "execution_count": null,
   "id": "da07da95-b8e9-4321-8899-2e2ec1611499",
   "metadata": {},
   "outputs": [],
   "source": [
    "# Plot density histograms for 'whole_subjectivity' by 'is_hymn'\n",
    "plt.figure(figsize=(15, 5))\n",
    "\n",
    "hymn = df0.loc[df0['is_hymn']== 1]['whole_subjectivity']\n",
    "no_hymn = df0.loc[df0['is_hymn']== 0]['whole_subjectivity']\n",
    "\n",
    "# Plot for 'no_hymn'\n",
    "sns.histplot(no_hymn, kde=True, color='blue', label='no_hymn', edgecolor='black', stat='density', bins=30)\n",
    "\n",
    "# Plot for 'hymn'\n",
    "sns.histplot(hymn, kde=True, color='orange', label='hymn', edgecolor='black', stat='density', bins=30)\n",
    "\n",
    "plt.legend()\n",
    "plt.show()"
   ]
  },
  {
   "cell_type": "markdown",
   "id": "f57bba1e-bdce-4377-9bc1-722358388424",
   "metadata": {},
   "source": [
    "#### Results for `whole_polarity` and `whole_subjectivity` distributions by `is_hymn`\n",
    "`whole_polarity` : range -1 to 1\n",
    "* Taken together, the corpus demonstrates a slightly positive tone, with few texts deemed to be negative\n",
    "* 'is_hymn=0' texts are most likely to have a neutral to ever so slightly positive tone, though a few texts could be more negative\n",
    "* Conversely, 'is_hymn=1' texts are most likely to be positive or even very positive in tone\n",
    "\n",
    "`whole_subjectivity`: range 0-1\n",
    "* Taken together, the corpus demonstrates an almost 50/50 chance that a text will be either more or less subjective \n",
    "* 'is_hymn=0' texts are more likely to be less subjective (more truthful); however, more texts creep into the subjective territory\n",
    "* Conversely, 'is_hymn=1' texts are far more likely to be subjective (less truthful)"
   ]
  },
  {
   "cell_type": "markdown",
   "id": "9cde9bfd-60af-4c1a-9824-eff4187dd0f2",
   "metadata": {},
   "source": [
    "## Balance dataset\n",
    "*Steps to balance*\n",
    "* Recategorize Inana and Dumuzi 'hymns' as narratives\n",
    "* Some texts have almost no words and should be removed\n",
    "* Check `b_category` genres with few texts\n",
    "* Check for other removals\n",
    "* Some texts have over 3000 words and should be summarized\n",
    "* Perhaps upscale 'is_hymn=0' texts even though not horribly imbalanced\n",
    "* Perhaps double text of 'is_hymn=1' texts to be more aligned with length on 'is_hymn=0'"
   ]
  },
  {
   "cell_type": "markdown",
   "id": "71b4977b-32c1-425e-8183-8e080ce32c75",
   "metadata": {},
   "source": [
    "### Recategorize Inana and Dumuzi 'hymns' as narratives ('is_hymn=0') because they could be categorized as stories"
   ]
  },
  {
   "cell_type": "code",
   "execution_count": null,
   "id": "eee1f674-86f8-40db-aeff-75212cd13fcb",
   "metadata": {},
   "outputs": [],
   "source": [
    "# Make copy of df\n",
    "modified = df0.copy()\n",
    "\n",
    "# Locate Inana and Dumuzi texts\n",
    "print(modified.shape)\n",
    "modified.god.unique()"
   ]
  },
  {
   "cell_type": "code",
   "execution_count": null,
   "id": "eedf7fce-5b1a-469d-a4aa-dd16be0a7473",
   "metadata": {},
   "outputs": [],
   "source": [
    "# Locate Inana and Dumuzi texts and change to 0 = not hymn\n",
    "modified.loc[modified['god']=='Inana and Dumuzid', 'is_hymn'] = 0"
   ]
  },
  {
   "cell_type": "code",
   "execution_count": null,
   "id": "7c7f7d3b-3c2e-4b78-b102-e6448f58564a",
   "metadata": {
    "scrolled": true
   },
   "outputs": [],
   "source": [
    "# Check that it worked\n",
    "modified[modified['god'] == 'Inana and Dumuzid']"
   ]
  },
  {
   "cell_type": "markdown",
   "id": "feb79310-3867-460f-b7fb-7c56f64f214c",
   "metadata": {},
   "source": [
    "### Investigate texts to see if some texts can be removed"
   ]
  },
  {
   "cell_type": "markdown",
   "id": "73f00a78-bd94-4a50-8a1e-adac10680880",
   "metadata": {},
   "source": [
    "#### Remove fragmentary texts\n",
    "* remove texts with fewer than 30 words"
   ]
  },
  {
   "cell_type": "code",
   "execution_count": null,
   "id": "2e147bd2-c19c-43ac-b01e-e379bc8af87d",
   "metadata": {},
   "outputs": [],
   "source": [
    "# Get descriptive stats for short texts\n",
    "short = modified[modified['word_count'] <= 30]\n",
    "short.groupby('is_hymn')['word_count'].describe()"
   ]
  },
  {
   "cell_type": "code",
   "execution_count": null,
   "id": "0551c10b-f4b8-43f7-b7d3-c4d9ff9a03da",
   "metadata": {
    "scrolled": true
   },
   "outputs": [],
   "source": [
    "# Since only 13, check out short texts\n",
    "print(short.shape)\n",
    "short"
   ]
  },
  {
   "cell_type": "code",
   "execution_count": null,
   "id": "201831a6-6f92-4325-b8fd-8f2161cf7780",
   "metadata": {},
   "outputs": [],
   "source": [
    "# Keep only texts with more than 30 words\n",
    "modified2 = modified[modified['word_count'] >= 30].reset_index(drop=True)\n",
    "\n",
    "print(modified2.shape)\n",
    "modified2.groupby('is_hymn')['word_count'].describe().round()"
   ]
  },
  {
   "cell_type": "code",
   "execution_count": null,
   "id": "414ca6d8-ae1d-4afd-ad75-75f673b97cfc",
   "metadata": {},
   "outputs": [],
   "source": [
    "# Check it worked by row count\n",
    "381-13"
   ]
  },
  {
   "cell_type": "markdown",
   "id": "ee81e652-c3f2-4f7f-ab29-191a10e8da4f",
   "metadata": {},
   "source": [
    "### Check for predominantly broken texts\n",
    "Create lambda function where\n",
    "* re.findall finds all occurrences of '……' followed by any of !.,;? in `cleaned_text` column\n",
    "  * set re.escape() function to treat all escape characters as literal strings \n",
    "* use len() functon to count matches\n",
    "* store in new column `count_break`\n",
    "* use loc[:, 'count_break'] where : indexer is set to select all rows"
   ]
  },
  {
   "cell_type": "code",
   "execution_count": null,
   "id": "245b0e57-851f-4423-9367-bad044dca472",
   "metadata": {},
   "outputs": [],
   "source": [
    "# Check for predominantly broken texts\n",
    "breaks = modified2[['b_category', 'number', 'word_count', 'cleaned_text', 'sentence_count', 'is_hymn']].reset_index(drop=True)\n",
    "\n",
    "# Define base value\n",
    "base_value = '……'\n",
    "\n",
    "# Create lambda function to count all variations of base value ('……') followed by punctuation\n",
    "breaks.loc[:, 'count_break'] = breaks['cleaned_text'].apply(\n",
    "    lambda x: len(re.findall(rf'{re.escape(base_value)}[!.,;?]*', x))\n",
    ")"
   ]
  },
  {
   "cell_type": "code",
   "execution_count": null,
   "id": "744c7826-026a-46e9-b485-d4d347a404ce",
   "metadata": {
    "scrolled": true
   },
   "outputs": [],
   "source": [
    "# Get percentage of breaks\n",
    "breaks['percentage'] = (breaks['count_break'] / breaks['word_count']) * 100\n",
    "over_30 = breaks[breaks['percentage'] > 30]\n",
    "\n",
    "# Check by percentage\n",
    "print(over_30.shape)\n",
    "over_30.sort_values(by='percentage', ascending=False).round()"
   ]
  },
  {
   "cell_type": "code",
   "execution_count": null,
   "id": "d60b732d-3f48-4664-b1b2-1cf08e0a75ee",
   "metadata": {},
   "outputs": [],
   "source": [
    "# Get genre counts\n",
    "over_30.b_category.value_counts()"
   ]
  },
  {
   "cell_type": "code",
   "execution_count": null,
   "id": "94306769-dea9-4a4c-9c95-9ec6d806ed88",
   "metadata": {},
   "outputs": [],
   "source": [
    "# Get counts by target variable 'is_hymn'\n",
    "over_30.is_hymn.value_counts()"
   ]
  },
  {
   "cell_type": "code",
   "execution_count": null,
   "id": "fa08a8f2-de81-4c5f-8c70-926dfd563140",
   "metadata": {},
   "outputs": [],
   "source": [
    "# Check out 2.5.4.16\n",
    "print(breaks.iloc[110, 3])"
   ]
  },
  {
   "cell_type": "code",
   "execution_count": null,
   "id": "d5eb306c-dccc-4102-bb04-cdbdc5206d36",
   "metadata": {},
   "outputs": [],
   "source": [
    "# Check out 2.8.5.a\n",
    "print(breaks.iloc[164, 3])"
   ]
  },
  {
   "cell_type": "markdown",
   "id": "3d9d6491-28c3-4d84-bf36-d006916f259c",
   "metadata": {},
   "source": [
    "##### Notes:\n",
    "*Drop*\n",
    "* 2.8.2.1 (150) has 94% breaks\n",
    "* 2.5.4.16 (110) has 77% breaks, 31 words, 19 sentences, and 24 breaks\n",
    "* 2.8.5.a (164) has 53% breaks and no verbs\n",
    "* 4.08.32 (245) has 52% breaks and only 52 words\n",
    "\n",
    "At this point do not drop more, because saving text is more important"
   ]
  },
  {
   "cell_type": "code",
   "execution_count": null,
   "id": "7869e23b-8c28-43a1-94a0-867b1656fb52",
   "metadata": {},
   "outputs": [],
   "source": [
    "# Drop rows 150, 110, 164, and 245\n",
    "modified3 = modified2.drop([150, 110, 164, 245], inplace=False).reset_index(drop=True)"
   ]
  },
  {
   "cell_type": "code",
   "execution_count": null,
   "id": "87e72392-1d1b-4336-b217-f09be7bfc4c5",
   "metadata": {},
   "outputs": [],
   "source": [
    "# Check it worked\n",
    "print(modified3.shape)\n",
    "modified3[modified3['number'] == '2.8.5.a']"
   ]
  },
  {
   "cell_type": "code",
   "execution_count": null,
   "id": "da612380-6b71-4f9a-a930-d96f9bea16b2",
   "metadata": {},
   "outputs": [],
   "source": [
    "# Get descriptive statistics for 'is_hymn'\n",
    "modified3.groupby('is_hymn')['word_count'].describe().round()"
   ]
  },
  {
   "cell_type": "markdown",
   "id": "8a4ab2f9-c5ed-4ae4-861b-fc8458bebe3f",
   "metadata": {},
   "source": [
    "#### Check out genre counts within `b_category` by `is_hymn`"
   ]
  },
  {
   "cell_type": "code",
   "execution_count": null,
   "id": "b395a561-d103-441f-a3c6-4f7c4582635a",
   "metadata": {},
   "outputs": [],
   "source": [
    "# Check class balance for 'B_category', 'is_hymn = 1'\n",
    "modified3[modified3['is_hymn'] == 1]['b_category'].value_counts()"
   ]
  },
  {
   "cell_type": "code",
   "execution_count": null,
   "id": "a3ab3a17-7ec7-4b1a-a901-8d35304d9ca6",
   "metadata": {},
   "outputs": [],
   "source": [
    "# Check class balance for 'B_category', 'is_hymn = 0'\n",
    "modified3[modified3['is_hymn'] == 0]['b_category'].value_counts()"
   ]
  },
  {
   "cell_type": "code",
   "execution_count": null,
   "id": "8e3c39a3-fe43-4572-a32b-201be3d5c232",
   "metadata": {},
   "outputs": [],
   "source": [
    "# Examine contents of single categories with few texts\n",
    "subset = modified3.loc[modified3['b_category'].isin(['Animal fables',\n",
    "                                         'Other',\n",
    "                                         'School stories',\n",
    "                                         'Reflective compositions',\n",
    "                                         'Personal laments',\n",
    "                                         'Lexical compositions'\n",
    "                                        ]\n",
    "                                                   )].reset_index(drop=True)\n",
    "subset"
   ]
  },
  {
   "cell_type": "code",
   "execution_count": null,
   "id": "6f1a03df-8f45-45d6-8ecc-ba0210e07c1b",
   "metadata": {},
   "outputs": [],
   "source": [
    "# Check out Reflective compositions\n",
    "print(subset.iloc[2, 7])"
   ]
  },
  {
   "cell_type": "code",
   "execution_count": null,
   "id": "06a287c7-7008-4edd-9a84-5fb9c68ad29e",
   "metadata": {},
   "outputs": [],
   "source": [
    "# Check out Other\n",
    "print(subset.iloc[3, 7])"
   ]
  },
  {
   "cell_type": "markdown",
   "id": "da29a318-9236-434b-9d5f-c3c499a327b4",
   "metadata": {},
   "source": [
    "#### Note:\n",
    "* No reason to remove only 1 text genres\n",
    "* Address 'No significant terms' label\n",
    "* Address texts with 0 in both `whole_polarity` and `whole_subjectivity`"
   ]
  },
  {
   "cell_type": "markdown",
   "id": "f7cd9d60-e9d6-4162-9074-cef84db63eb7",
   "metadata": {},
   "source": [
    "### Investigate texts to see if more texts can be removed"
   ]
  },
  {
   "cell_type": "markdown",
   "id": "4256aef3-193d-43fa-a481-5a2d428067c3",
   "metadata": {},
   "source": [
    "#### Check distribution of 'tfidf_top_word = No significant terms'"
   ]
  },
  {
   "cell_type": "code",
   "execution_count": null,
   "id": "56119965-212c-4978-94ac-3cf1545b73f9",
   "metadata": {},
   "outputs": [],
   "source": [
    "# Check distribution of 'tfidf_top_word = No significant terms'\n",
    "no_sig = modified3[modified3['tfidf_top_word'] == 'No significant terms']\n",
    "no_sig"
   ]
  },
  {
   "cell_type": "code",
   "execution_count": null,
   "id": "8deb047e-9bdb-4ebb-b3fe-55fb5707d844",
   "metadata": {},
   "outputs": [],
   "source": [
    "# Check out 5.7.a\n",
    "print(modified3.iloc[330, 7])"
   ]
  },
  {
   "cell_type": "markdown",
   "id": "9b6c9687-b53d-4435-831a-381b79b0735e",
   "metadata": {},
   "source": [
    "#### Check out texts with 0 in `both whole_polarity` and `whole_subjectivity`"
   ]
  },
  {
   "cell_type": "code",
   "execution_count": null,
   "id": "2c0ae63f-569b-4288-9c11-46e323ff05ea",
   "metadata": {},
   "outputs": [],
   "source": [
    "no_whole = modified3.query('whole_polarity == 0 & whole_subjectivity == 0')\n",
    "no_whole"
   ]
  },
  {
   "cell_type": "code",
   "execution_count": null,
   "id": "835d21ac-e3c0-4aff-9605-d879855a9eb2",
   "metadata": {},
   "outputs": [],
   "source": [
    "# Check out 3.3.04\n",
    "modified3.iloc[191, 7]"
   ]
  },
  {
   "cell_type": "markdown",
   "id": "3b6ad805-62cb-4ae1-8b71-18dc1dd9ffc0",
   "metadata": {},
   "source": [
    "##### Note:\n",
    "* Keep both 5.7.a and 3.3.04, since they're full texts\n",
    "* Clean for spaces again when summarizing"
   ]
  },
  {
   "cell_type": "code",
   "execution_count": null,
   "id": "a6df017d-45bd-495c-824b-771e99d6cda1",
   "metadata": {},
   "outputs": [],
   "source": [
    "# Save modified3 df to a csv for ease\n",
    "modified3.to_csv('modified_df.csv', index=False)"
   ]
  },
  {
   "cell_type": "code",
   "execution_count": null,
   "id": "68150b8c-dd03-4f14-b3b1-b117654bd311",
   "metadata": {},
   "outputs": [],
   "source": [
    "df0 = pd.read_csv('modified_df.csv')\n",
    "print(df0.info())\n",
    "df0.head(2).round(2)"
   ]
  },
  {
   "cell_type": "markdown",
   "id": "fe85042d-5ab6-4cff-84f2-b84640f5a94b",
   "metadata": {},
   "source": [
    "## Extract and summarize\n",
    "* Import gensim 3.8.3 to use summarize function\n",
    "* Apply cleaning function to `clean_text`\n",
    "* Create `extrative_summary function` on `clean_text` where\n",
    "  * only rows where `word_count` is over 1200 words are summarized\n",
    "  * texts are summarized to a max of 1200 words (word_count=200) rather than ratio (ratio=0.2 [20%])\n",
    "  * rows where `word_count` is under 1200 words are returned whole swath\n",
    "\n",
    "Note:\\\n",
    "Using the unlemmatized text may introduce noise in summarization due to excessive punctuation or complex verbal forms "
   ]
  },
  {
   "cell_type": "code",
   "execution_count": null,
   "id": "b9137315-ef33-45b5-9065-b557b8cd18b8",
   "metadata": {},
   "outputs": [],
   "source": [
    "# Apply 'simple_cleaning' function in imported py file prepare_ancient_text\n",
    "df0['cleaned_text'] = df0['cleaned_text'].apply(ancient.simple_cleaning)\n",
    "df0.head(2).round(2)"
   ]
  },
  {
   "cell_type": "code",
   "execution_count": null,
   "id": "9b5767fc-43eb-44d1-8ec6-5f431c7b0598",
   "metadata": {},
   "outputs": [],
   "source": [
    "print(df0.iloc[330, 7])"
   ]
  },
  {
   "cell_type": "code",
   "execution_count": null,
   "id": "80e73ab8-3cae-406b-8983-69b2a6460c8a",
   "metadata": {},
   "outputs": [],
   "source": [
    "# Create extractive_summary function on 'clean_text'\n",
    "\n",
    "def extractive_summary(row):\n",
    "    def joined_text(text):  # Function to ensure text is joined properly\n",
    "        return ' '.join(text.split()) \n",
    "\n",
    "    if row['word_count'] > 1200:\n",
    "        summarized_text = summarize(row['cleaned_text'], word_count=1200)\n",
    "        return joined_text(summarized_text)  # Call 'joined_text' function\n",
    "        \n",
    "    else:\n",
    "        return joined_text(row['cleaned_text'])  # Call 'joined_text' function to ensure all text is joined"
   ]
  },
  {
   "cell_type": "code",
   "execution_count": null,
   "id": "8ec110df-d8e6-477f-86bb-82116d0bd23b",
   "metadata": {},
   "outputs": [],
   "source": [
    "# Apply 'extractive_summary', creating new 'summary' column\n",
    "df0['summary'] = df0.apply(extractive_summary, axis=1)"
   ]
  },
  {
   "cell_type": "code",
   "execution_count": null,
   "id": "b368fe99-aafd-4ab7-ba61-48393f5f4834",
   "metadata": {},
   "outputs": [],
   "source": [
    "df0.info()"
   ]
  },
  {
   "cell_type": "markdown",
   "id": "cece9098-a5e1-4542-a1f5-6f6a1708e611",
   "metadata": {},
   "source": [
    "#### Check the it worked\n",
    "* Compare text 1.1.1 (0,7) which has a 1440 word count to summary (0,10)\n",
    "* Check out text 2.5.5.2 (now 120,7) which has a word count under 1200 and should not have been summarized"
   ]
  },
  {
   "cell_type": "code",
   "execution_count": null,
   "id": "94ecfcf7-bd1a-426d-b179-d0463c7db526",
   "metadata": {},
   "outputs": [],
   "source": [
    "# Check out 1.1.1\n",
    "print(df0.iloc[0, 7])"
   ]
  },
  {
   "cell_type": "code",
   "execution_count": null,
   "id": "2dec4436-a8c1-413b-9ec5-154d2b508e72",
   "metadata": {},
   "outputs": [],
   "source": [
    "print(df0.iloc[0, 10])"
   ]
  },
  {
   "cell_type": "code",
   "execution_count": null,
   "id": "e7f6a577-d49c-4cb1-9856-e926e8b336cf",
   "metadata": {},
   "outputs": [],
   "source": [
    "# Check out \n",
    "print(df0.iloc[120,7])"
   ]
  },
  {
   "cell_type": "markdown",
   "id": "67eafd16-eb2b-4fb5-b540-a51e30cbbb62",
   "metadata": {},
   "source": [
    "### Check new text counts\n",
    "* Create updated lemmatized feature `lemmatized_summaries` from `summary`\n",
    "  * Apply 'prepare_text' function in imported py file prepare_ancient_text\n",
    "* Create updated word count feature `summary_counts` from `lemmatized_summaries`"
   ]
  },
  {
   "cell_type": "code",
   "execution_count": null,
   "id": "c360a7e7-e799-4588-8ab8-6e5715d580aa",
   "metadata": {},
   "outputs": [],
   "source": [
    "# Apply 'prepare_text' function in imported py file prepare_ancient_text\n",
    "df0['lemmatized_summaries'] = df0['summary'].apply(ancient.prepare_text)"
   ]
  },
  {
   "cell_type": "code",
   "execution_count": null,
   "id": "eee037cc-17e9-4cc6-8a39-5d2a2a0ae5c3",
   "metadata": {},
   "outputs": [],
   "source": [
    "# Get length of lemmatized texts\n",
    "# Split text into words in order to count using .split() method\n",
    "df0['summary_counts'] = [len(text.split()) for text in df0['lemmatized_summaries']]\n",
    "df0.head(2).round()"
   ]
  },
  {
   "cell_type": "code",
   "execution_count": null,
   "id": "b5c9e3d6-013f-4d65-90ad-3fab895a2df0",
   "metadata": {},
   "outputs": [],
   "source": [
    "# Get descriptive statistics for 'is_hymn'\n",
    "df0.groupby('is_hymn')['summary_counts'].describe().round()"
   ]
  },
  {
   "cell_type": "code",
   "execution_count": null,
   "id": "817aefdb-7ea4-4f80-8e5d-5f235891ffb5",
   "metadata": {},
   "outputs": [],
   "source": [
    "# Plot new density histogram using 'summary_counts'\n",
    "hymn = df0.loc[df0['is_hymn']== 1]['summary_counts']\n",
    "no_hymn = df0.loc[df0['is_hymn']== 0]['summary_counts']\n",
    "\n",
    "plt.figure(figsize=(15, 5))\n",
    "\n",
    "# Plot for 'no_hymn'\n",
    "sns.histplot(no_hymn, kde=True, color='blue', label='no_hymn', edgecolor='black', stat='density', bins=30)\n",
    "\n",
    "# Plot for 'hymn'\n",
    "sns.histplot(hymn, kde=True, color='orange', label='hymn', edgecolor='black', stat='density', bins=30)\n",
    "\n",
    "plt.legend()\n",
    "plt.show()"
   ]
  },
  {
   "cell_type": "markdown",
   "id": "f7186811-ce0b-4e93-abfb-edc631ae4a5e",
   "metadata": {},
   "source": [
    "##### Note: Word count distributions are more in line\n",
    "* No need to upscale hymn=0 yet, since df is not horribly imbalanced\n",
    "* No need to double word count on hymn=1 yet, though hymn=0 is still skewed toward longer texts"
   ]
  },
  {
   "cell_type": "code",
   "execution_count": null,
   "id": "f5477f62-93c9-4ed8-b010-dc4c6cf910bf",
   "metadata": {},
   "outputs": [],
   "source": [
    "df0.info()"
   ]
  },
  {
   "cell_type": "markdown",
   "id": "4c7e2d74-c9a2-4eec-b081-a79723e44340",
   "metadata": {},
   "source": [
    "## Explanation of features in df0\n",
    "Built, wrangled, and transformed from `all_texts_sentiment.csv` and `top_word_df.csv`\n",
    "\n",
    "| Index | Feature                                           | Contents                                                                                                                                                                   |\n",
    "|---|------------------------------------------|------------------------------------------------------------------------------------------|\n",
    "| 0|b_category                                         | designations hold true to the original catalog          |\n",
    "| 1|god                                        | featured god in text        |\n",
    "| 2|number                          | original catalog number and **key**                                       |\n",
    "| 3|whole_polarity       | whole assessment scores for each `joined_text` from `all_texts_sentiment.csv`               |\n",
    "| 4|whole_subjectivity   | whole assessment scores for each `joined_text` from `all_texts_sentiment.csv`               |\n",
    "| 5|word_count        | original word count from unsummarized lemmatized texts in `lemmatized` from `top_word_df.csv`        |\n",
    "| 6|tfidf_top_word   | weighted top bi-gram from unsummarized lemmatized texts  in `lemmatized`  from `top_word_df.csv` |\n",
    "| 7|cleaned_text       | original `text` from `all_texts_sentiment.csv` which has gone through multiple cleanings  |\n",
    "| 8|sentence_count   | sentence counts for original `text` from `all_texts_sentiment.csv`                        |\n",
    "| 9|is_hymn          |  binary genre division between hymn(1) and not hymn(0); **target variable**        |\n",
    "| 10|summary   | extracted summaries of `cleaned_text` that were over 1200 words in length, summarized to at most 1200 words  |\n",
    "| |          |  texts originally under 1200 words remained intact      |\n",
    "| 11|lemmatized_summaries        | cleaned and lemmatized summaries in `summary`                                  |\n",
    "| 12|summary_counts       | word counts for texts in `lemmatized_summaries`  |\n",
    "\n",
    "#### Columns to drop for predictive csv `ancient_for_ML`\n",
    "* 1 god: too informative\n",
    "* 7 cleaned_text: no longer needed since contains full length texts\n",
    "* 12 summary_counts: this feature was created simply to compare summarized text counts\n",
    "\n",
    "#### To be kept\n",
    "* 0 b_category: original genre category - will be removed for training\n",
    "* 2 number:  original identification number - will be removed for training\n",
    "* 3 whole_polarity\n",
    "* 4 whole_subjectivity\n",
    "* 5 original word_count\n",
    "* 6 original tfidf_top_word\n",
    "* 8 original sentence_count\n",
    "* 9 is_hymn - **target variable**\n",
    "* 10 summary\n",
    "* 11 lemmatized_summaries"
   ]
  },
  {
   "cell_type": "code",
   "execution_count": null,
   "id": "e3205d9c-f535-4777-9278-4e43392de307",
   "metadata": {},
   "outputs": [],
   "source": [
    "print(df0.columns)"
   ]
  },
  {
   "cell_type": "code",
   "execution_count": null,
   "id": "d087d90f-2778-445a-aab3-96b94bc2bf28",
   "metadata": {},
   "outputs": [],
   "source": [
    "# Select columns to work with\n",
    "ancient_for_ML = df0.drop(df0.columns[[1, 7, 12]], axis=1)"
   ]
  },
  {
   "cell_type": "code",
   "execution_count": null,
   "id": "51fd4fe2-ffec-482c-b38d-94a47b0e814a",
   "metadata": {},
   "outputs": [],
   "source": [
    "print(ancient_for_ML.info())"
   ]
  },
  {
   "cell_type": "code",
   "execution_count": null,
   "id": "e1d7a3b4-4772-4cb3-b02d-2c973a360254",
   "metadata": {},
   "outputs": [],
   "source": [
    "ancient_for_ML.head(2).round(2)"
   ]
  },
  {
   "cell_type": "code",
   "execution_count": null,
   "id": "06d2acc6-32eb-458f-a18f-74360eada7e6",
   "metadata": {},
   "outputs": [],
   "source": [
    "# Save final joined df to a CSV \n",
    "ancient_for_ML.to_csv('ancient_for_ML.csv', index=False)\n",
    "df0 = pd.read_csv('ancient_for_ML.csv')\n",
    "print(df0.info())\n",
    "df0.head(2).round(2)"
   ]
  },
  {
   "cell_type": "code",
   "execution_count": null,
   "id": "a93b8a86-573d-4b8e-b46b-212c433cec40",
   "metadata": {},
   "outputs": [],
   "source": []
  },
  {
   "cell_type": "code",
   "execution_count": null,
   "id": "44fd62aa-979e-43c0-975f-985774b6ffe0",
   "metadata": {},
   "outputs": [],
   "source": []
  },
  {
   "cell_type": "code",
   "execution_count": null,
   "id": "94c4aed2-9d04-4793-8ab9-63366047335b",
   "metadata": {},
   "outputs": [],
   "source": []
  },
  {
   "cell_type": "code",
   "execution_count": null,
   "id": "62cc5d86-5590-45c9-a50d-5d048f870050",
   "metadata": {},
   "outputs": [],
   "source": []
  },
  {
   "cell_type": "code",
   "execution_count": null,
   "id": "2a1af2d8-5784-4f90-b213-946b154f5f39",
   "metadata": {},
   "outputs": [],
   "source": []
  },
  {
   "cell_type": "code",
   "execution_count": null,
   "id": "333790bd-9e46-44d3-b08e-17879ece0069",
   "metadata": {},
   "outputs": [],
   "source": []
  },
  {
   "cell_type": "code",
   "execution_count": null,
   "id": "9fa4999c-f4df-495d-b2ba-d897eb5f9297",
   "metadata": {},
   "outputs": [],
   "source": []
  },
  {
   "cell_type": "code",
   "execution_count": null,
   "id": "8d61547b-4c35-4614-9761-931a0278f9a0",
   "metadata": {},
   "outputs": [],
   "source": []
  },
  {
   "cell_type": "code",
   "execution_count": null,
   "id": "3472a455-4de7-4f5e-80e2-8497b615c200",
   "metadata": {},
   "outputs": [],
   "source": []
  },
  {
   "cell_type": "code",
   "execution_count": null,
   "id": "b0f66d3b-0779-41da-aba8-0e25e6ca162c",
   "metadata": {},
   "outputs": [],
   "source": []
  },
  {
   "cell_type": "code",
   "execution_count": null,
   "id": "6ef02c6d-2f3d-4c45-8b42-a4f6461b1a0c",
   "metadata": {},
   "outputs": [],
   "source": []
  },
  {
   "cell_type": "code",
   "execution_count": null,
   "id": "5b0bc3a0-b18b-4c6e-b195-072a4199e78f",
   "metadata": {},
   "outputs": [],
   "source": []
  },
  {
   "cell_type": "code",
   "execution_count": null,
   "id": "482111a1-e2d6-4bf9-bc7c-eeb22b7f8673",
   "metadata": {},
   "outputs": [],
   "source": []
  }
 ],
 "metadata": {
  "kernelspec": {
   "display_name": "Python (mygesim)",
   "language": "python",
   "name": "mygesim"
  },
  "language_info": {
   "codemirror_mode": {
    "name": "ipython",
    "version": 3
   },
   "file_extension": ".py",
   "mimetype": "text/x-python",
   "name": "python",
   "nbconvert_exporter": "python",
   "pygments_lexer": "ipython3",
   "version": "3.6.13"
  }
 },
 "nbformat": 4,
 "nbformat_minor": 5
}
